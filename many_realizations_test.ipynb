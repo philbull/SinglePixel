{
 "cells": [
  {
   "cell_type": "code",
   "execution_count": 1,
   "metadata": {},
   "outputs": [],
   "source": [
    "% matplotlib inline"
   ]
  },
  {
   "cell_type": "code",
   "execution_count": 2,
   "metadata": {},
   "outputs": [],
   "source": [
    "import numpy as np\n",
    "import matplotlib.pyplot as plt\n",
    "import model_list, models, fitting\n",
    "import corner\n",
    "\n",
    "from utils import rj2cmb"
   ]
  },
  {
   "cell_type": "code",
   "execution_count": 9,
   "metadata": {},
   "outputs": [],
   "source": [
    "mean_beta = 1.6\n",
    "mean_temp = 20.\n",
    "sigma_beta = .2\n",
    "sigma_temp = 4.\n",
    "\n",
    "DUST_I = 50.\n",
    "DUST_P = 5. / 1.41\n",
    "amp_I=rj2cmb(353e9, DUST_I)\n",
    "amp_Q=rj2cmb(353e9, DUST_P)\n",
    "amp_U=rj2cmb(353e9, DUST_P)\n",
    "\n",
    "nu = np.logspace(np.log10(30), np.log10(500), 7) * 1e9"
   ]
  },
  {
   "cell_type": "code",
   "execution_count": 4,
   "metadata": {},
   "outputs": [],
   "source": [
    "test = model_list.prob1mbb_model\n",
    "control = model_list.dust_model\n",
    "cmb = model_list.cmb_model"
   ]
  },
  {
   "cell_type": "code",
   "execution_count": 6,
   "metadata": {},
   "outputs": [],
   "source": [
    "models_fit = [control, cmb] \n",
    "amp_names = []\n",
    "param_names = []\n",
    "\n",
    "for mod in models_fit:\n",
    "        # Parameter names\n",
    "        amp_names += [\"%s_%s\" % (mod.model, pol) for pol in \"IQU\"]\n",
    "        param_names += mod.param_names"
   ]
  },
  {
   "cell_type": "code",
   "execution_count": 7,
   "metadata": {},
   "outputs": [
    {
     "data": {
      "text/plain": [
       "['mbb_I', 'mbb_Q', 'mbb_U', 'cmb_I', 'cmb_Q', 'cmb_U', 'dust_beta', 'dust_T']"
      ]
     },
     "execution_count": 7,
     "metadata": {},
     "output_type": "execute_result"
    }
   ],
   "source": [
    "pnames_MBB = amp_names + param_names\n",
    "pnames_MBB"
   ]
  },
  {
   "cell_type": "code",
   "execution_count": 10,
   "metadata": {},
   "outputs": [
    {
     "name": "stderr",
     "output_type": "stream",
     "text": [
      "Unhandled exception in thread started by <bound method Thread.__bootstrap of <Thread(Thread-2, stopped daemon 123145431834624)>>\n"
     ]
    },
    {
     "ename": "IndexError",
     "evalue": "string index out of range",
     "output_type": "error",
     "traceback": [
      "\u001b[0;31m---------------------------------------------------------------------------\u001b[0m",
      "\u001b[0;31mIndexError\u001b[0m                                Traceback (most recent call last)",
      "\u001b[0;32m/Users/Lisa/anaconda2/lib/python2.7/site-packages/IPython/core/interactiveshell.pyc\u001b[0m in \u001b[0;36mrun_code\u001b[0;34m(self, code_obj, result)\u001b[0m\n\u001b[1;32m   2893\u001b[0m             \u001b[0;32mif\u001b[0m \u001b[0mresult\u001b[0m \u001b[0;32mis\u001b[0m \u001b[0;32mnot\u001b[0m \u001b[0mNone\u001b[0m\u001b[0;34m:\u001b[0m\u001b[0;34m\u001b[0m\u001b[0m\n\u001b[1;32m   2894\u001b[0m                 \u001b[0mresult\u001b[0m\u001b[0;34m.\u001b[0m\u001b[0merror_in_exec\u001b[0m \u001b[0;34m=\u001b[0m \u001b[0msys\u001b[0m\u001b[0;34m.\u001b[0m\u001b[0mexc_info\u001b[0m\u001b[0;34m(\u001b[0m\u001b[0;34m)\u001b[0m\u001b[0;34m[\u001b[0m\u001b[0;36m1\u001b[0m\u001b[0;34m]\u001b[0m\u001b[0;34m\u001b[0m\u001b[0m\n\u001b[0;32m-> 2895\u001b[0;31m             \u001b[0mself\u001b[0m\u001b[0;34m.\u001b[0m\u001b[0mshowtraceback\u001b[0m\u001b[0;34m(\u001b[0m\u001b[0;34m)\u001b[0m\u001b[0;34m\u001b[0m\u001b[0m\n\u001b[0m\u001b[1;32m   2896\u001b[0m         \u001b[0;32melse\u001b[0m\u001b[0;34m:\u001b[0m\u001b[0;34m\u001b[0m\u001b[0m\n\u001b[1;32m   2897\u001b[0m             \u001b[0moutflag\u001b[0m \u001b[0;34m=\u001b[0m \u001b[0;36m0\u001b[0m\u001b[0;34m\u001b[0m\u001b[0m\n",
      "\u001b[0;32m/Users/Lisa/anaconda2/lib/python2.7/site-packages/IPython/core/interactiveshell.pyc\u001b[0m in \u001b[0;36mshowtraceback\u001b[0;34m(self, exc_tuple, filename, tb_offset, exception_only)\u001b[0m\n\u001b[1;32m   1824\u001b[0m                     \u001b[0;32mexcept\u001b[0m \u001b[0mException\u001b[0m\u001b[0;34m:\u001b[0m\u001b[0;34m\u001b[0m\u001b[0m\n\u001b[1;32m   1825\u001b[0m                         stb = self.InteractiveTB.structured_traceback(etype,\n\u001b[0;32m-> 1826\u001b[0;31m                                             value, tb, tb_offset=tb_offset)\n\u001b[0m\u001b[1;32m   1827\u001b[0m \u001b[0;34m\u001b[0m\u001b[0m\n\u001b[1;32m   1828\u001b[0m                     \u001b[0mself\u001b[0m\u001b[0;34m.\u001b[0m\u001b[0m_showtraceback\u001b[0m\u001b[0;34m(\u001b[0m\u001b[0metype\u001b[0m\u001b[0;34m,\u001b[0m \u001b[0mvalue\u001b[0m\u001b[0;34m,\u001b[0m \u001b[0mstb\u001b[0m\u001b[0;34m)\u001b[0m\u001b[0;34m\u001b[0m\u001b[0m\n",
      "\u001b[0;32m/Users/Lisa/anaconda2/lib/python2.7/site-packages/IPython/core/ultratb.pyc\u001b[0m in \u001b[0;36mstructured_traceback\u001b[0;34m(self, etype, value, tb, tb_offset, number_of_lines_of_context)\u001b[0m\n",
      "\u001b[0;32m/Users/Lisa/anaconda2/lib/python2.7/site-packages/IPython/core/ultratb.pyc\u001b[0m in \u001b[0;36mstructured_traceback\u001b[0;34m(self, etype, value, tb, tb_offset, number_of_lines_of_context)\u001b[0m\n",
      "\u001b[0;32m/Users/Lisa/anaconda2/lib/python2.7/site-packages/IPython/core/ultratb.pyc\u001b[0m in \u001b[0;36mstructured_traceback\u001b[0;34m(self, etype, evalue, etb, tb_offset, number_of_lines_of_context)\u001b[0m\n",
      "\u001b[0;31mIndexError\u001b[0m: string index out of range"
     ]
    }
   ],
   "source": [
    "runs = 100\n",
    "\n",
    "fsigma_T=1.\n",
    "fsigma_P=10e3\n",
    "beam_mat = np.identity(3*len(nu)) # Beam model\n",
    "params_MBB = [control.amp_I, control.amp_Q, control.amp_U, cmb.amp_I, cmb.amp_Q, cmb.amp_U, control.dust_beta,\n",
    "              control.dust_T]\n",
    "\n",
    "initial_vals_MBB = (amp_I, amp_Q, amp_U, control.amp_U, cmb.amp_I, cmb.amp_Q, mean_beta, mean_temp)\n",
    "\n",
    "parent_model = 'mbb'\n",
    "\n",
    "logps = np.empty(runs)\n",
    "covs = np.empty(runs, dtype=object)\n",
    "best_fits = np.empty(runs, dtype=object)\n",
    "\n",
    "for i in range(runs):\n",
    "    \n",
    "    D_vec_MBB, Ninv = fitting.generate_data(nu, fsigma_T, fsigma_P, [test, cmb])\n",
    "    #D_vec_probMBB, Ninv = fitting.generate_data(nu, fsigma_T, fsigma_P, [test, cmb])\n",
    "\n",
    "    data_spec_MBB = (nu, D_vec_MBB, Ninv, beam_mat)\n",
    "    #data_spec_probMBB = (nu, D_vec_probMBB, Ninv, beam_mat)\n",
    "\n",
    "    p_spec_MBB = (pnames_MBB, initial_vals_MBB, parent_model)\n",
    "    #p_spec_probMBB = (pnames_probMBB, initial_vals_probMBB, parent_model)\n",
    "    \n",
    "    pnames_out_control, samples_control, logp_control  = fitting.joint_mcmc(data_spec_MBB, [control, cmb], p_spec_MBB, nwalkers=20, \n",
    "               burn=1000, steps=10000, nthreads=2, sample_file=None)\n",
    "    \n",
    "    logps[i] = logp_control.max()\n",
    "    covs[i] = np.cov(samples_control)\n",
    "    best_fits[i] = [samples_control[j][logp_control.argmax()] for j in range(len(pnames_MBB))]\n",
    "    \n",
    "\n",
    "    # pnames_out_mixed, samples_mixed, logp_mixed  = fitting.joint_mcmc(data_spec_probMBB, [control, cmb], p_spec_MBB, nwalkers=20, \n",
    "    #          burn=1000, steps=10000, nthreads=2, sample_file=None)\n"
   ]
  },
  {
   "cell_type": "code",
   "execution_count": null,
   "metadata": {},
   "outputs": [],
   "source": []
  }
 ],
 "metadata": {
  "kernelspec": {
   "display_name": "Python 2",
   "language": "python",
   "name": "python2"
  },
  "language_info": {
   "codemirror_mode": {
    "name": "ipython",
    "version": 2
   },
   "file_extension": ".py",
   "mimetype": "text/x-python",
   "name": "python",
   "nbconvert_exporter": "python",
   "pygments_lexer": "ipython2",
   "version": "2.7.14"
  }
 },
 "nbformat": 4,
 "nbformat_minor": 2
}
