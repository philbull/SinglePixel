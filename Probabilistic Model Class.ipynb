{
 "cells": [
  {
   "cell_type": "code",
   "execution_count": 1,
   "metadata": {},
   "outputs": [],
   "source": [
    "% matplotlib inline"
   ]
  },
  {
   "cell_type": "code",
   "execution_count": 2,
   "metadata": {},
   "outputs": [],
   "source": [
    "import numpy as np\n",
    "import matplotlib.pyplot as plt\n",
    "import model_list, models, fitting\n",
    "import matplotlib.lines as mlines\n",
    "import corner\n",
    "import copy as cp\n",
    "\n",
    "from utils import rj2cmb"
   ]
  },
  {
   "cell_type": "code",
   "execution_count": 3,
   "metadata": {},
   "outputs": [],
   "source": [
    "mean_beta = 1.6\n",
    "mean_temp = 20.\n",
    "sigma_beta = .2\n",
    "sigma_temp = 4."
   ]
  },
  {
   "cell_type": "code",
   "execution_count": 4,
   "metadata": {},
   "outputs": [],
   "source": [
    "test = model_list.prob1mbb_model\n",
    "control = model_list.dust_model\n",
    "cmb = model_list.cmb_model"
   ]
  },
  {
   "cell_type": "code",
   "execution_count": 5,
   "metadata": {},
   "outputs": [],
   "source": [
    "DUST_I = 50.\n",
    "DUST_P = 5. / 1.41\n",
    "amp_I=rj2cmb(353e9, DUST_I)\n",
    "amp_Q=rj2cmb(353e9, DUST_P)\n",
    "amp_U=rj2cmb(353e9, DUST_P)\n",
    "\n",
    "test_smallvar = models.ProbSingleMBB(amp_I=rj2cmb(353e9, DUST_I),\n",
    "                             amp_Q=rj2cmb(353e9, DUST_P),\n",
    "                             amp_U=rj2cmb(353e9, DUST_P),\n",
    "                             dust_beta=1.6, dust_T=20.,\n",
    "                             sigma_beta=.1 * sigma_beta, sigma_temp=.1 * sigma_temp)"
   ]
  },
  {
   "cell_type": "code",
   "execution_count": 6,
   "metadata": {},
   "outputs": [],
   "source": [
    "nu = np.logspace(np.log10(30), np.log10(500), 7) * 1e9"
   ]
  },
  {
   "cell_type": "code",
   "execution_count": null,
   "metadata": {},
   "outputs": [],
   "source": [
    "print plt.rcParams['axes.prop_cycle'].by_key()['color']"
   ]
  },
  {
   "cell_type": "code",
   "execution_count": 7,
   "metadata": {},
   "outputs": [],
   "source": [
    "models_fit = [control, cmb] \n",
    "amp_names = []\n",
    "param_names = []\n",
    "\n",
    "for mod in models_fit:\n",
    "        # Parameter names\n",
    "        amp_names += [\"%s_%s\" % (mod.model, pol) for pol in \"IQU\"]\n",
    "        param_names += mod.param_names"
   ]
  },
  {
   "cell_type": "code",
   "execution_count": 8,
   "metadata": {},
   "outputs": [
    {
     "data": {
      "text/plain": [
       "['mbb_I', 'mbb_Q', 'mbb_U', 'cmb_I', 'cmb_Q', 'cmb_U', 'dust_beta', 'dust_T']"
      ]
     },
     "execution_count": 8,
     "metadata": {},
     "output_type": "execute_result"
    }
   ],
   "source": [
    "pnames_MBB = cp.copy(amp_names + param_names)\n",
    "pnames_MBB"
   ]
  },
  {
   "cell_type": "code",
   "execution_count": null,
   "metadata": {},
   "outputs": [],
   "source": [
    "pnames_MBB, pnames_probMBB"
   ]
  },
  {
   "cell_type": "code",
   "execution_count": null,
   "metadata": {},
   "outputs": [],
   "source": [
    "fsigma_T=1.\n",
    "fsigma_P=10e3\n",
    "\n",
    "beam_mat = np.identity(3*len(nu)) # Beam model\n",
    "\n",
    "# pvals set the model parameters \n",
    "params_MBB = [control.amp_I, control.amp_Q, control.amp_U, cmb.amp_I, cmb.amp_Q, cmb.amp_U,\n",
    "              control.dust_beta, control.dust_T]\n",
    "params_probMBB = [test.amp_I, test.amp_Q, test.amp_U, cmb.amp_I, cmb.amp_Q, cmb.amp_U,\n",
    "                  test.dust_beta, test.dust_T, test.sigma_beta, test.sigma_temp]\n",
    "\n",
    "initial_vals_MBB = (amp_I, amp_Q, amp_U, cmb.amp_U, cmb.amp_I, cmb.amp_Q, mean_beta, mean_temp)\n",
    "initial_vals_probMBB = (amp_I, amp_Q, amp_U, cmb.amp_U, cmb.amp_I, cmb.amp_Q,\n",
    "                        mean_beta, mean_temp, sigma_beta, sigma_temp)\n",
    "parent_model = 'mbb'\n",
    "\n",
    "D_vec_MBB, Ninv = fitting.generate_data(nu, fsigma_T, fsigma_P, [control, cmb])\n",
    "D_vec_probMBB, Ninv = fitting.generate_data(nu, fsigma_T, fsigma_P, [test, cmb])\n",
    "\n",
    "data_spec_MBB = (nu, D_vec_MBB, Ninv, beam_mat)\n",
    "data_spec_probMBB = (nu, D_vec_probMBB, Ninv, beam_mat)\n",
    "\n",
    "p_spec_MBB = (pnames_MBB, initial_vals_MBB, parent_model)\n",
    "p_spec_probMBB = (pnames_probMBB, initial_vals_probMBB, parent_model)\n",
    "    \n",
    "fitting.lnprob_joint(params_MBB, data_spec_MBB, [control, cmb], p_spec_MBB), fitting.lnprob_joint(params_probMBB, data_spec_probMBB, [control, cmb], p_spec_probMBB)"
   ]
  },
  {
   "cell_type": "code",
   "execution_count": null,
   "metadata": {},
   "outputs": [],
   "source": [
    "logp_control.argmax() # , logp_mixed.max()"
   ]
  },
  {
   "cell_type": "code",
   "execution_count": null,
   "metadata": {},
   "outputs": [],
   "source": [
    "samples_control[0][logp_control.argmax()]"
   ]
  },
  {
   "cell_type": "code",
   "execution_count": null,
   "metadata": {},
   "outputs": [],
   "source": [
    "dof = len(D_vec_MBB) - len(pnames_MBB)\n",
    "dof"
   ]
  },
  {
   "cell_type": "code",
   "execution_count": null,
   "metadata": {},
   "outputs": [],
   "source": [
    "from scipy import stats"
   ]
  },
  {
   "cell_type": "code",
   "execution_count": null,
   "metadata": {},
   "outputs": [],
   "source": [
    "x = np.linspace(stats.chi2.ppf(0.01, dof), stats.chi2.ppf(0.99, dof), 100)"
   ]
  },
  {
   "cell_type": "code",
   "execution_count": null,
   "metadata": {},
   "outputs": [],
   "source": [
    "pnames_out_control, pnames_out_test"
   ]
  },
  {
   "cell_type": "code",
   "execution_count": null,
   "metadata": {},
   "outputs": [],
   "source": [
    "#plt.plot(nu/1e9, D_vec_probMBB[0:7])\n",
    "plt.plot(nu/1e9, D_vec_probMBB[0:7] - D_vec_MBB[0:7])"
   ]
  },
  {
   "cell_type": "code",
   "execution_count": null,
   "metadata": {},
   "outputs": [],
   "source": [
    "pnames_out_control, samples_control, logp_control  = fitting.joint_mcmc(data_spec_MBB, [control, cmb], p_spec_MBB, nwalkers=20, \n",
    "               burn=0, steps=100, nthreads=2, sample_file=None)\n",
    "\n"
   ]
  },
  {
   "cell_type": "code",
   "execution_count": 11,
   "metadata": {},
   "outputs": [],
   "source": [
    "rho = np.zeros_like(covs[1])\n",
    "\n",
    "for i in range(len(samples_control)):\n",
    "    for j in range(len(samples_control)):\n",
    "        \n",
    "        rho[i][j] = covs[1][i][j] / np.sqrt(covs[1][i][i] * covs[1][j][j])    \n",
    "       "
   ]
  },
  {
   "cell_type": "code",
   "execution_count": 12,
   "metadata": {},
   "outputs": [
    {
     "data": {
      "text/plain": [
       "array([[ 1.        , -0.0087696 ,  0.05521092,  0.21296197, -0.0076372 ,\n",
       "        -0.02859494,  0.44759586, -0.50211738],\n",
       "       [-0.0087696 ,  1.        , -0.01258103, -0.01008299, -0.48836281,\n",
       "         0.0036535 , -0.01102557,  0.01215474],\n",
       "       [ 0.05521092, -0.01258103,  1.        , -0.00948107,  0.01300009,\n",
       "        -0.49353405,  0.0084136 , -0.01329712],\n",
       "       [ 0.21296197, -0.01008299, -0.00948107,  1.        , -0.00355397,\n",
       "        -0.00709164,  0.94159948, -0.90770915],\n",
       "       [-0.0076372 , -0.48836281,  0.01300009, -0.00355397,  1.        ,\n",
       "         0.00379375, -0.00524035,  0.00581518],\n",
       "       [-0.02859494,  0.0036535 , -0.49353405, -0.00709164,  0.00379375,\n",
       "         1.        , -0.01320508,  0.01429868],\n",
       "       [ 0.44759586, -0.01102557,  0.0084136 ,  0.94159948, -0.00524035,\n",
       "        -0.01320508,  1.        , -0.99254907],\n",
       "       [-0.50211738,  0.01215474, -0.01329712, -0.90770915,  0.00581518,\n",
       "         0.01429868, -0.99254907,  1.        ]])"
      ]
     },
     "execution_count": 12,
     "metadata": {},
     "output_type": "execute_result"
    }
   ],
   "source": [
    "rho"
   ]
  },
  {
   "cell_type": "code",
   "execution_count": null,
   "metadata": {},
   "outputs": [],
   "source": [
    "plt.matshow(rho, vmin=-1., vmax=1.)\n",
    "plt.colorbar()"
   ]
  },
  {
   "cell_type": "code",
   "execution_count": 15,
   "metadata": {},
   "outputs": [],
   "source": [
    "deltas = np.empty(runs, dtype=object)\n",
    "avgs = np.empty(runs)\n",
    "\n",
    "\n",
    "for i in range(runs):\n",
    "    deltas[i] = np.asarray([best_fits[i][j] - truths[j] for j in range(len(truths))])\n",
    "\n",
    "    for j in range(len(truths)):\n",
    "        avgs[j]  += deltas[i][j]\n"
   ]
  },
  {
   "cell_type": "code",
   "execution_count": null,
   "metadata": {},
   "outputs": [],
   "source": [
    "best_fits"
   ]
  },
  {
   "cell_type": "code",
   "execution_count": null,
   "metadata": {},
   "outputs": [],
   "source": [
    "truths"
   ]
  },
  {
   "cell_type": "code",
   "execution_count": 16,
   "metadata": {},
   "outputs": [],
   "source": [
    "delta_reshaped = np.empty(len(truths), dtype=object)\n",
    "\n",
    "for i in range(len(truths)):\n",
    "    delta_reshaped[i] = [deltas[j][i] for j in range(runs)]\n",
    "    "
   ]
  },
  {
   "cell_type": "code",
   "execution_count": 18,
   "metadata": {},
   "outputs": [
    {
     "data": {
      "text/plain": [
       "Text(0.5,0.98,'fitting single MBB model to prob MBB data')"
      ]
     },
     "execution_count": 18,
     "metadata": {},
     "output_type": "execute_result"
    },
    {
     "data": {
      "image/png": "[encoded data removed]",
      "text/plain": [
       "<Figure size 1440x720 with 8 Axes>"
      ]
     },
     "metadata": {},
     "output_type": "display_data"
    }
   ],
   "source": [
    "fig, ((ax1, ax2, ax3, ax4), (ax6, ax7, ax8, ax9)) = plt.subplots(2, 4)\n",
    "fig.set_figwidth(20)\n",
    "fig.set_figheight(10)\n",
    "\n",
    "ax1.hist(delta_reshaped[0])\n",
    "ax2.hist(delta_reshaped[1])\n",
    "ax3.hist(delta_reshaped[2])\n",
    "ax4.hist(delta_reshaped[3])\n",
    "\n",
    "ax6.hist(delta_reshaped[4])\n",
    "ax7.hist(delta_reshaped[5])\n",
    "ax8.hist(delta_reshaped[6])\n",
    "ax9.hist(delta_reshaped[7])\n",
    "\n",
    "ax1.axvline(0.0, c='k')\n",
    "ax2.axvline(0.0, c='k')\n",
    "ax3.axvline(0.0, c='k')\n",
    "ax4.axvline(0.0, c='k')\n",
    "\n",
    "ax6.axvline(0.0, c='k')\n",
    "ax7.axvline(0.0, c='k')\n",
    "ax8.axvline(0.0, c='k')\n",
    "ax9.axvline(0.0, c='k')\n",
    "\n",
    "ax1.set_title('amp I')\n",
    "ax2.set_title('amp Q (noisey)')\n",
    "ax3.set_title('amp U (noisey)')\n",
    "ax4.set_title('cmb I')\n",
    "\n",
    "ax6.set_title('cmb Q (noisey)')\n",
    "ax7.set_title('cmb U (noisey)')\n",
    "ax8.set_title('dust beta')\n",
    "ax9.set_title('dust T')\n",
    "\n",
    "fig.suptitle('fitting single MBB model to prob MBB data')"
   ]
  },
  {
   "cell_type": "code",
   "execution_count": 9,
   "metadata": {},
   "outputs": [],
   "source": [
    "runs = 20\n",
    "\n",
    "fsigma_T=1.\n",
    "fsigma_P=10e3\n",
    "beam_mat = np.identity(3*len(nu)) # Beam model\n",
    "params_MBB = [control.amp_I, control.amp_Q, control.amp_U, cmb.amp_I, cmb.amp_Q, cmb.amp_U, control.dust_beta,\n",
    "              control.dust_T]\n",
    "\n",
    "initial_vals_MBB = (amp_I, amp_Q, amp_U, control.amp_U, cmb.amp_I, cmb.amp_Q, mean_beta, mean_temp)\n",
    "\n",
    "parent_model = 'mbb'\n",
    "\n",
    "logps = np.empty(runs)\n",
    "covs = np.empty(runs, dtype=object)\n",
    "best_fits = np.empty(runs, dtype=object)\n",
    "\n",
    "for i in range(runs):\n",
    "    \n",
    "    D_vec_MBB, Ninv = fitting.generate_data(nu, fsigma_T, fsigma_P, [test, cmb])\n",
    "    #D_vec_probMBB, Ninv = fitting.generate_data(nu, fsigma_T, fsigma_P, [test, cmb])\n",
    "\n",
    "    data_spec_MBB = (nu, D_vec_MBB, Ninv, beam_mat)\n",
    "    #data_spec_probMBB = (nu, D_vec_probMBB, Ninv, beam_mat)\n",
    "\n",
    "    p_spec_MBB = (pnames_MBB, initial_vals_MBB, parent_model)\n",
    "    #p_spec_probMBB = (pnames_probMBB, initial_vals_probMBB, parent_model)\n",
    "    \n",
    "    pnames_out_control, samples_control, logp_control  = fitting.joint_mcmc(data_spec_MBB, [control, cmb], p_spec_MBB, nwalkers=20, \n",
    "               burn=1000, steps=10000, nthreads=2, sample_file=None)\n",
    "    \n",
    "    logps[i] = logp_control.max()\n",
    "    covs[i] = np.cov(samples_control)\n",
    "    best_fits[i] = [samples_control[j][logp_control.argmax()] for j in range(len(pnames_MBB))]\n",
    "    \n",
    "\n",
    "    # pnames_out_mixed, samples_mixed, logp_mixed  = fitting.joint_mcmc(data_spec_probMBB, [control, cmb], p_spec_MBB, nwalkers=20, \n",
    "    #          burn=1000, steps=10000, nthreads=2, sample_file=None)\n"
   ]
  },
  {
   "cell_type": "code",
   "execution_count": 10,
   "metadata": {},
   "outputs": [
    {
     "data": {
      "text/plain": [
       "array([array([[ 2.27227492e-01, -1.96182982e+01,  4.85993101e+00,\n",
       "         2.16439371e-02,  6.62974789e+00,  7.49868315e-01,\n",
       "         4.04938705e-03, -1.58597584e-01],\n",
       "       [-1.96182982e+01,  1.18786578e+07,  5.36224439e+04,\n",
       "        -3.48803815e+01, -8.28201826e+05, -1.20975356e+04,\n",
       "        -2.90777964e+00,  1.02221524e+02],\n",
       "       [ 4.85993101e+00,  5.36224439e+04,  1.17958927e+07,\n",
       "         1.43799408e+01, -1.96430381e+04, -8.06811609e+05,\n",
       "         9.33091367e-01, -2.49879275e+01],\n",
       "       [ 2.16439371e-02, -3.48803815e+01,  1.43799408e+01,\n",
       "         4.90696096e-02,  2.94080604e+00,  9.49301392e-01,\n",
       "         4.08777175e-03, -1.36570582e-01],\n",
       "       [ 6.62974789e+00, -8.28201826e+05, -1.96430381e+04,\n",
       "         2.94080604e+00,  2.47339675e+05,  4.93287172e+03,\n",
       "         2.84297617e-01, -9.51670216e+00],\n",
       "       [ 7.49868315e-01, -1.20975356e+04, -8.06811609e+05,\n",
       "         9.49301392e-01,  4.93287172e+03,  2.37967829e+05,\n",
       "         1.51718414e-01, -5.97892606e+00],\n",
       "       [ 4.04938705e-03, -2.90777964e+00,  9.33091367e-01,\n",
       "         4.08777175e-03,  2.84297617e-01,  1.51718414e-01,\n",
       "         3.80649737e-04, -1.30832839e-02],\n",
       "       [-1.58597584e-01,  1.02221524e+02, -2.49879275e+01,\n",
       "        -1.36570582e-01, -9.51670216e+00, -5.97892606e+00,\n",
       "        -1.30832839e-02,  4.56625065e-01]]),\n",
       "       array([[ 2.29133902e-01, -1.46228391e+01,  9.13405667e+01,\n",
       "         2.14166310e-02, -1.81237025e+00, -6.86274581e+00,\n",
       "         4.06153853e-03, -1.31163996e-01],\n",
       "       [-1.46228391e+01,  1.21343001e+07, -1.51466904e+05,\n",
       "        -7.37905809e+00, -8.43369841e+05,  6.38088163e+03,\n",
       "        -7.28061605e-01,  2.31056332e+01],\n",
       "       [ 9.13405667e+01, -1.51466904e+05,  1.19450547e+07,\n",
       "        -6.88423822e+00,  2.22745363e+04, -8.55214728e+05,\n",
       "         5.51233664e-01, -2.50793580e+01],\n",
       "       [ 2.14166310e-02, -7.37905809e+00, -6.88423822e+00,\n",
       "         4.41376126e-02, -3.70157155e-01, -7.46990665e-01,\n",
       "         3.74999309e-03, -1.04067672e-01],\n",
       "       [-1.81237025e+00, -8.43369841e+05,  2.22745363e+04,\n",
       "        -3.70157155e-01,  2.45774169e+05,  9.42977174e+02,\n",
       "        -4.92479837e-02,  1.57324456e+00],\n",
       "       [-6.86274581e+00,  6.38088163e+03, -8.55214728e+05,\n",
       "        -7.46990665e-01,  9.42977174e+02,  2.51378401e+05,\n",
       "        -1.25506089e-01,  3.91223182e+00],\n",
       "       [ 4.06153853e-03, -7.28061605e-01,  5.51233664e-01,\n",
       "         3.74999309e-03, -4.92479837e-02, -1.25506089e-01,\n",
       "         3.59351677e-04, -1.02677795e-02],\n",
       "       [-1.31163996e-01,  2.31056332e+01, -2.50793580e+01,\n",
       "        -1.04067672e-01,  1.57324456e+00,  3.91223182e+00,\n",
       "        -1.02677795e-02,  2.97803238e-01]]),\n",
       "       array([[ 2.30282566e-01,  2.51306430e+01, -3.82833748e+01,\n",
       "         2.26208401e-02, -5.41005434e+00,  2.71476905e+00,\n",
       "         4.14468604e-03, -1.32908596e-01],\n",
       "       [ 2.51306430e+01,  1.23512972e+07, -9.61253834e+04,\n",
       "        -5.05775614e-01, -8.59740243e+05,  2.68023404e+04,\n",
       "         5.50759716e-01, -1.64962991e+01],\n",
       "       [-3.82833748e+01, -9.61253834e+04,  1.26198207e+07,\n",
       "         1.68420904e+01, -6.19579465e+03, -9.04836502e+05,\n",
       "         1.03496658e+00, -2.29169827e+01],\n",
       "       [ 2.26208401e-02, -5.05775614e-01,  1.68420904e+01,\n",
       "         4.45322816e-02, -1.24769223e+00, -1.33524857e+00,\n",
       "         3.75986604e-03, -1.03448206e-01],\n",
       "       [-5.41005434e+00, -8.59740243e+05, -6.19579465e+03,\n",
       "        -1.24769223e+00,  2.46710666e+05,  7.74299569e+02,\n",
       "        -1.00797756e-01,  2.70729553e+00],\n",
       "       [ 2.71476905e+00,  2.68023404e+04, -9.04836502e+05,\n",
       "        -1.33524857e+00,  7.74299569e+02,  2.42167121e+05,\n",
       "        -4.60675343e-02,  4.85820320e-01],\n",
       "       [ 4.14468604e-03,  5.50759716e-01,  1.03496658e+00,\n",
       "         3.75986604e-03, -1.00797756e-01, -4.60675343e-02,\n",
       "         3.57392982e-04, -1.01308870e-02],\n",
       "       [-1.32908596e-01, -1.64962991e+01, -2.29169827e+01,\n",
       "        -1.03448206e-01,  2.70729553e+00,  4.85820320e-01,\n",
       "        -1.01308870e-02,  2.91532380e-01]]),\n",
       "       array([[ 2.30834198e-01, -3.76695033e+01, -9.51584700e+00,\n",
       "         1.94948604e-02, -4.15954585e+00, -1.66342000e+00,\n",
       "         3.93629576e-03, -1.70604232e-01],\n",
       "       [-3.76695033e+01,  1.16563336e+07, -7.83368141e+04,\n",
       "        -2.05378687e+01, -7.88542201e+05,  5.39361635e+04,\n",
       "        -2.08129920e+00,  7.63360582e+01],\n",
       "       [-9.51584700e+00, -7.83368141e+04,  1.15800274e+07,\n",
       "        -3.02162987e+01,  3.51120918e+04, -8.44806247e+05,\n",
       "        -2.30105539e+00,  7.44863692e+01],\n",
       "       [ 1.94948604e-02, -2.05378687e+01, -3.02162987e+01,\n",
       "         5.01905125e-02, -1.13549450e+00,  1.72814864e+00,\n",
       "         4.17294897e-03, -1.52373918e-01],\n",
       "       [-4.15954585e+00, -7.88542201e+05,  3.51120918e+04,\n",
       "        -1.13549450e+00,  2.40217673e+05, -7.59673987e+03,\n",
       "        -1.43067173e-01,  5.84689384e+00],\n",
       "       [-1.66342000e+00,  5.39361635e+04, -8.44806247e+05,\n",
       "         1.72814864e+00, -7.59673987e+03,  2.40488668e+05,\n",
       "         5.29179211e-02,  2.47869620e-01],\n",
       "       [ 3.93629576e-03, -2.08129920e+00, -2.30105539e+00,\n",
       "         4.17294897e-03, -1.43067173e-01,  5.29179211e-02,\n",
       "         3.88596079e-04, -1.46019732e-02],\n",
       "       [-1.70604232e-01,  7.63360582e+01,  7.44863692e+01,\n",
       "        -1.52373918e-01,  5.84689384e+00,  2.47869620e-01,\n",
       "        -1.46019732e-02,  5.57220854e-01]]),\n",
       "       array([[ 2.23207425e-01,  4.81447998e+01, -7.06351489e+01,\n",
       "         2.09240578e-02,  4.48435783e-01,  7.84026701e+00,\n",
       "         3.93408835e-03, -1.71671946e-01],\n",
       "       [ 4.81447998e+01,  1.17529738e+07,  2.87264676e+05,\n",
       "        -8.25615978e+00, -8.27415127e+05, -3.19803842e+04,\n",
       "        -4.89885523e-03, -9.18380223e-01],\n",
       "       [-7.06351489e+01,  2.87264676e+05,  1.17421384e+07,\n",
       "         1.01430414e+01, -5.07161893e+04, -8.51396665e+05,\n",
       "        -7.69738104e-01,  4.48897914e+01],\n",
       "       [ 2.09240578e-02, -8.25615978e+00,  1.01430414e+01,\n",
       "         5.09886937e-02,  1.68235411e+00,  3.52050081e+00,\n",
       "         4.24237489e-03, -1.57628193e-01],\n",
       "       [ 4.48435783e-01, -8.27415127e+05, -5.07161893e+04,\n",
       "         1.68235411e+00,  2.47270135e+05,  6.00800327e+03,\n",
       "         1.00631195e-01, -3.54889775e+00],\n",
       "       [ 7.84026701e+00, -3.19803842e+04, -8.51396665e+05,\n",
       "         3.52050081e+00,  6.00800327e+03,  2.46039870e+05,\n",
       "         3.92284121e-01, -1.57001855e+01],\n",
       "       [ 3.93408835e-03, -4.89885523e-03, -7.69738104e-01,\n",
       "         4.24237489e-03,  1.00631195e-01,  3.92284121e-01,\n",
       "         3.92525175e-04, -1.49856815e-02],\n",
       "       [-1.71671946e-01, -9.18380223e-01,  4.48897914e+01,\n",
       "        -1.57628193e-01, -3.54889775e+00, -1.57001855e+01,\n",
       "        -1.49856815e-02,  5.80773662e-01]]),\n",
       "       array([[ 2.37351965e-01, -3.50005048e+01, -9.53479152e+00,\n",
       "         2.80232842e-02, -2.27411918e-01,  7.84017091e+00,\n",
       "         4.66917486e-03, -1.68404771e-01],\n",
       "       [-3.50005048e+01,  1.18471482e+07,  5.92691467e+03,\n",
       "        -1.13758531e+01, -8.26666421e+05,  4.20909621e+04,\n",
       "        -1.04847813e+00,  3.40795856e+01],\n",
       "       [-9.53479152e+00,  5.92691467e+03,  1.12068998e+07,\n",
       "         3.17158535e+00,  1.83246987e+04, -8.00706899e+05,\n",
       "         6.36508406e-01, -2.17184723e+01],\n",
       "       [ 2.80232842e-02, -1.13758531e+01,  3.17158535e+00,\n",
       "         4.89681511e-02, -7.66801404e-01, -1.35601159e+00,\n",
       "         4.17363049e-03, -1.30888785e-01],\n",
       "       [-2.27411918e-01, -8.26666421e+05,  1.83246987e+04,\n",
       "        -7.66801404e-01,  2.57844284e+05, -3.48674153e+02,\n",
       "        -1.30818030e-01,  4.76726822e+00],\n",
       "       [ 7.84017091e+00,  4.20909621e+04, -8.00706899e+05,\n",
       "        -1.35601159e+00, -3.48674153e+02,  2.44061712e+05,\n",
       "        -1.17840206e-01,  2.80398913e+00],\n",
       "       [ 4.66917486e-03, -1.04847813e+00,  6.36508406e-01,\n",
       "         4.17363049e-03, -1.30818030e-01, -1.17840206e-01,\n",
       "         3.96446677e-04, -1.27778873e-02],\n",
       "       [-1.68404771e-01,  3.40795856e+01, -2.17184723e+01,\n",
       "        -1.30888785e-01,  4.76726822e+00,  2.80398913e+00,\n",
       "        -1.27778873e-02,  4.17897519e-01]]),\n",
       "       array([[ 2.28732548e-01, -2.10890213e+01, -3.09006500e+01,\n",
       "         2.16777429e-02,  7.84831963e-01, -5.60785840e-01,\n",
       "         4.04635086e-03, -1.48702553e-01],\n",
       "       [-2.10890213e+01,  1.14341348e+07, -2.74759710e+05,\n",
       "         1.47048285e+01, -8.01723339e+05,  3.06533021e+04,\n",
       "         1.36739580e+00, -4.14688583e+01],\n",
       "       [-3.09006500e+01, -2.74759710e+05,  1.18835273e+07,\n",
       "        -1.81197094e+01,  1.46491563e+04, -8.11362377e+05,\n",
       "        -1.33128037e+00,  4.15894549e+01],\n",
       "       [ 2.16777429e-02,  1.47048285e+01, -1.81197094e+01,\n",
       "         4.86335426e-02, -1.32460636e-01, -1.02311528e+00,\n",
       "         4.09743924e-03, -1.28665210e-01],\n",
       "       [ 7.84831963e-01, -8.01723339e+05,  1.46491563e+04,\n",
       "        -1.32460636e-01,  2.45932379e+05, -7.63752741e+03,\n",
       "        -3.10502923e-02,  2.90279972e-01],\n",
       "       [-5.60785840e-01,  3.06533021e+04, -8.11362377e+05,\n",
       "        -1.02311528e+00, -7.63752741e+03,  2.42303856e+05,\n",
       "        -9.27481245e-02,  2.82167921e+00],\n",
       "       [ 4.04635086e-03,  1.36739580e+00, -1.33128037e+00,\n",
       "         4.09743924e-03, -3.10502923e-02, -9.27481245e-02,\n",
       "         3.85152478e-04, -1.24245271e-02],\n",
       "       [-1.48702553e-01, -4.14688583e+01,  4.15894549e+01,\n",
       "        -1.28665210e-01,  2.90279972e-01,  2.82167921e+00,\n",
       "        -1.24245271e-02,  4.06718460e-01]]),\n",
       "       array([[ 2.25040711e-01,  1.83832739e+01,  1.45275620e+01,\n",
       "         2.32266304e-02, -3.01820260e+00, -3.83770695e+00,\n",
       "         4.16390149e-03, -1.51869780e-01],\n",
       "       [ 1.83832739e+01,  1.18248489e+07,  5.56528398e+05,\n",
       "        -1.14556886e+01, -8.42847559e+05,  3.76822043e+04,\n",
       "        -4.37872718e-01,  4.02966342e+00],\n",
       "       [ 1.45275620e+01,  5.56528398e+05,  1.19481434e+07,\n",
       "        -2.06024348e+01, -7.49338523e+04, -8.59880499e+05,\n",
       "        -1.19300224e+00,  3.18678090e+01],\n",
       "       [ 2.32266304e-02, -1.14556886e+01, -2.06024348e+01,\n",
       "         4.78533749e-02, -5.09306106e-01,  1.89378936e+00,\n",
       "         4.02467583e-03, -1.26433024e-01],\n",
       "       [-3.01820260e+00, -8.42847559e+05, -7.49338523e+04,\n",
       "        -5.09306106e-01,  2.47311955e+05,  1.67971325e+03,\n",
       "        -1.04914309e-01,  3.73389790e+00],\n",
       "       [-3.83770695e+00,  3.76822043e+04, -8.59880499e+05,\n",
       "         1.89378936e+00,  1.67971325e+03,  2.53915744e+05,\n",
       "         8.04152837e-02, -2.15063740e+00],\n",
       "       [ 4.16390149e-03, -4.37872718e-01, -1.19300224e+00,\n",
       "         4.02467583e-03, -1.04914309e-01,  8.04152837e-02,\n",
       "         3.78069673e-04, -1.22048582e-02],\n",
       "       [-1.51869780e-01,  4.02966342e+00,  3.18678090e+01,\n",
       "        -1.26433024e-01,  3.73389790e+00, -2.15063740e+00,\n",
       "        -1.22048582e-02,  3.99944887e-01]]),\n",
       "       array([[ 2.30373760e-01, -6.37755875e+01, -9.56656516e+00,\n",
       "         2.64176027e-02,  1.19867177e+01,  4.68096287e-01,\n",
       "         4.47917277e-03, -1.61494166e-01],\n",
       "       [-6.37755875e+01,  1.21407428e+07, -1.11639212e+05,\n",
       "        -2.70035988e+01, -8.53774672e+05,  5.10183774e+04,\n",
       "        -2.67191427e+00,  8.93453191e+01],\n",
       "       [-9.56656516e+00, -1.11639212e+05,  1.16552673e+07,\n",
       "         4.35570725e+00, -3.27206269e+04, -8.67632446e+05,\n",
       "         2.13896005e-01, -6.68305043e+00],\n",
       "       [ 2.64176027e-02, -2.70035988e+01,  4.35570725e+00,\n",
       "         4.82229838e-02,  4.56364491e+00,  4.16787781e+00,\n",
       "         4.12445176e-03, -1.28838536e-01],\n",
       "       [ 1.19867177e+01, -8.53774672e+05, -3.27206269e+04,\n",
       "         4.56364491e+00,  2.46739977e+05, -3.74763626e+03,\n",
       "         4.50806892e-01, -1.59540284e+01],\n",
       "       [ 4.68096287e-01,  5.10183774e+04, -8.67632446e+05,\n",
       "         4.16787781e+00, -3.74763626e+03,  2.42053488e+05,\n",
       "         3.36310043e-01, -9.91155813e+00],\n",
       "       [ 4.47917277e-03, -2.67191427e+00,  2.13896005e-01,\n",
       "         4.12445176e-03,  4.50806892e-01,  3.36310043e-01,\n",
       "         3.93122084e-04, -1.26219504e-02],\n",
       "       [-1.61494166e-01,  8.93453191e+01, -6.68305043e+00,\n",
       "        -1.28838536e-01, -1.59540284e+01, -9.91155813e+00,\n",
       "        -1.26219504e-02,  4.11454785e-01]]),\n",
       "       array([[ 2.25475272e-01,  4.72002119e+00,  1.45576156e+01,\n",
       "         2.03578227e-02,  1.13262816e+00, -7.05989679e-01,\n",
       "         3.95666913e-03, -1.44649268e-01],\n",
       "       [ 4.72002119e+00,  1.14955965e+07, -6.31172735e+05,\n",
       "         2.36714532e-01, -7.95362509e+05,  2.82100621e+04,\n",
       "        -4.19446643e-01,  1.86942981e+01],\n",
       "       [ 1.45576156e+01, -6.31172735e+05,  1.24248361e+07,\n",
       "         3.03497440e+00,  1.93021668e+04, -8.67343313e+05,\n",
       "         5.35662863e-01, -1.89862351e+01],\n",
       "       [ 2.03578227e-02,  2.36714532e-01,  3.03497440e+00,\n",
       "         4.69151994e-02,  8.98285221e-01, -3.45432041e+00,\n",
       "         3.88910671e-03, -1.21109741e-01],\n",
       "       [ 1.13262816e+00, -7.95362509e+05,  1.93021668e+04,\n",
       "         8.98285221e-01,  2.36032732e+05,  5.10656739e+03,\n",
       "         1.28199509e-01, -4.45015888e+00],\n",
       "       [-7.05989679e-01,  2.82100621e+04, -8.67343313e+05,\n",
       "        -3.45432041e+00,  5.10656739e+03,  2.56043276e+05,\n",
       "        -3.27399744e-01,  1.02246027e+01],\n",
       "       [ 3.95666913e-03, -4.19446643e-01,  5.35662863e-01,\n",
       "         3.88910671e-03,  1.28199509e-01, -3.27399744e-01,\n",
       "         3.63657843e-04, -1.16722739e-02],\n",
       "       [-1.44649268e-01,  1.86942981e+01, -1.89862351e+01,\n",
       "        -1.21109741e-01, -4.45015888e+00,  1.02246027e+01,\n",
       "        -1.16722739e-02,  3.80455267e-01]]),\n",
       "       array([[ 2.32980875e-01, -9.93484997e+00,  8.71615352e+00,\n",
       "         1.98773978e-02,  1.11305983e+00,  1.88722737e-01,\n",
       "         3.97981557e-03, -1.41312692e-01],\n",
       "       [-9.93484997e+00,  1.23062977e+07,  3.80697859e+05,\n",
       "         2.26852747e+01, -8.49730515e+05,  7.20903091e+03,\n",
       "         1.50885291e+00, -3.97539035e+01],\n",
       "       [ 8.71615352e+00,  3.80697859e+05,  1.16675373e+07,\n",
       "         7.05302919e+00, -2.99961333e+04, -7.75448505e+05,\n",
       "         1.04129165e+00, -3.63200814e+01],\n",
       "       [ 1.98773978e-02,  2.26852747e+01,  7.05302919e+00,\n",
       "         4.55472505e-02, -2.39282133e+00,  1.95560709e-01,\n",
       "         3.82123452e-03, -1.14435810e-01],\n",
       "       [ 1.11305983e+00, -8.49730515e+05, -2.99961333e+04,\n",
       "        -2.39282133e+00,  2.51300303e+05, -2.27418918e+02,\n",
       "        -1.71489345e-01,  4.50771853e+00],\n",
       "       [ 1.88722737e-01,  7.20903091e+03, -7.75448505e+05,\n",
       "         1.95560709e-01, -2.27418918e+02,  2.33911678e+05,\n",
       "         2.39147365e-03,  3.66341650e-01],\n",
       "       [ 3.97981557e-03,  1.50885291e+00,  1.04129165e+00,\n",
       "         3.82123452e-03, -1.71489345e-01,  2.39147365e-03,\n",
       "         3.62000569e-04, -1.11890612e-02],\n",
       "       [-1.41312692e-01, -3.97539035e+01, -3.63200814e+01,\n",
       "        -1.14435810e-01,  4.50771853e+00,  3.66341650e-01,\n",
       "        -1.11890612e-02,  3.51297323e-01]]),\n",
       "       array([[ 2.34946913e-01, -7.61919245e+00, -3.29931763e+01,\n",
       "         2.13507601e-02,  5.21554024e+00, -4.59210041e+00,\n",
       "         4.16358424e-03, -1.51196189e-01],\n",
       "       [-7.61919245e+00,  1.16564560e+07,  1.71542897e+04,\n",
       "        -5.10365893e+00, -7.78792065e+05, -1.11797097e+04,\n",
       "        -6.10381499e-01,  2.06246372e+01],\n",
       "       [-3.29931763e+01,  1.71542897e+04,  1.16220036e+07,\n",
       "        -1.64622046e+01, -2.28404543e+04, -8.12660622e+05,\n",
       "        -2.31521941e+00,  7.89694372e+01],\n",
       "       [ 2.13507601e-02, -5.10365893e+00, -1.64622046e+01,\n",
       "         4.71517946e-02,  2.84408175e+00, -1.33553345e-01,\n",
       "         4.00574217e-03, -1.24600368e-01],\n",
       "       [ 5.21554024e+00, -7.78792065e+05, -2.28404543e+04,\n",
       "         2.84408175e+00,  2.33329108e+05, -1.31566746e+03,\n",
       "         3.08165728e-01, -9.41348393e+00],\n",
       "       [-4.59210041e+00, -1.11797097e+04, -8.12660622e+05,\n",
       "        -1.33553345e-01, -1.31566746e+03,  2.42494970e+05,\n",
       "         2.46482085e-02, -1.63209907e+00],\n",
       "       [ 4.16358424e-03, -6.10381499e-01, -2.31521941e+00,\n",
       "         4.00574217e-03,  3.08165728e-01,  2.46482085e-02,\n",
       "         3.81811970e-04, -1.22103137e-02],\n",
       "       [-1.51196189e-01,  2.06246372e+01,  7.89694372e+01,\n",
       "        -1.24600368e-01, -9.41348393e+00, -1.63209907e+00,\n",
       "        -1.22103137e-02,  3.96228063e-01]]),\n",
       "       array([[ 2.23269912e-01,  1.59077247e+01, -5.71545599e+00,\n",
       "         2.12246759e-02, -3.94955083e+00, -4.87652696e-01,\n",
       "         3.92762631e-03, -1.50509674e-01],\n",
       "       [ 1.59077247e+01,  1.19099001e+07,  2.55736098e+05,\n",
       "         1.46967620e+01, -8.33972196e+05, -6.95723327e+03,\n",
       "         1.19379172e+00, -4.19820684e+01],\n",
       "       [-5.71545599e+00,  2.55736098e+05,  1.15679666e+07,\n",
       "         5.47756957e+00, -7.26670735e+04, -7.86196982e+05,\n",
       "         2.60085274e-01, -6.07499936e+00],\n",
       "       [ 2.12246759e-02,  1.46967620e+01,  5.47756957e+00,\n",
       "         4.80238728e-02, -2.88517331e+00, -2.52824051e+00,\n",
       "         4.00669161e-03, -1.30801103e-01],\n",
       "       [-3.94955083e+00, -8.33972196e+05, -7.26670735e+04,\n",
       "        -2.88517331e+00,  2.49164246e+05, -1.71679207e+03,\n",
       "        -3.11801813e-01,  1.09406247e+01],\n",
       "       [-4.87652696e-01, -6.95723327e+03, -7.86196982e+05,\n",
       "        -2.52824051e+00, -1.71679207e+03,  2.48936485e+05,\n",
       "        -1.92577274e-01,  6.40187907e+00],\n",
       "       [ 3.92762631e-03,  1.19379172e+00,  2.60085274e-01,\n",
       "         4.00669161e-03, -3.11801813e-01, -1.92577274e-01,\n",
       "         3.73221109e-04, -1.25348201e-02],\n",
       "       [-1.50509674e-01, -4.19820684e+01, -6.07499936e+00,\n",
       "        -1.30801103e-01,  1.09406247e+01,  6.40187907e+00,\n",
       "        -1.25348201e-02,  4.27398165e-01]]),\n",
       "       array([[ 2.23952913e-01,  3.95168243e+01, -2.46430223e+01,\n",
       "         2.20521076e-02, -2.08541205e+00,  2.24351835e+00,\n",
       "         4.05794726e-03, -1.48998798e-01],\n",
       "       [ 3.95168243e+01,  1.22137756e+07, -2.33148388e+05,\n",
       "         1.06924112e+01, -8.33359398e+05, -3.88903102e+04,\n",
       "         1.00769050e+00, -2.92827293e+01],\n",
       "       [-2.46430223e+01, -2.33148388e+05,  1.21176246e+07,\n",
       "        -1.08545125e+01,  2.51872743e+04, -8.64973515e+05,\n",
       "        -1.13321560e+00,  3.54825955e+01],\n",
       "       [ 2.20521076e-02,  1.06924112e+01, -1.08545125e+01,\n",
       "         4.90637364e-02, -1.73997074e+00,  2.58316132e+00,\n",
       "         4.10273061e-03, -1.28812130e-01],\n",
       "       [-2.08541205e+00, -8.33359398e+05,  2.51872743e+04,\n",
       "        -1.73997074e+00,  2.48284456e+05,  2.70005172e+03,\n",
       "        -1.26937886e-01,  3.67448455e+00],\n",
       "       [ 2.24351835e+00, -3.88903102e+04, -8.64973515e+05,\n",
       "         2.58316132e+00,  2.70005172e+03,  2.49259767e+05,\n",
       "         1.79292575e-01, -5.61252084e+00],\n",
       "       [ 4.05794726e-03,  1.00769050e+00, -1.13321560e+00,\n",
       "         4.10273061e-03, -1.26937886e-01,  1.79292575e-01,\n",
       "         3.82445348e-04, -1.23406246e-02],\n",
       "       [-1.48998798e-01, -2.92827293e+01,  3.54825955e+01,\n",
       "        -1.28812130e-01,  3.67448455e+00, -5.61252084e+00,\n",
       "        -1.23406246e-02,  4.04280201e-01]]),\n",
       "       array([[ 2.26505262e-01, -4.35628924e+01,  1.39374608e+01,\n",
       "         2.10022757e-02,  7.11747273e+00, -4.96216923e+00,\n",
       "         3.98645043e-03, -1.51873059e-01],\n",
       "       [-4.35628924e+01,  1.17999736e+07, -3.75197888e+05,\n",
       "        -1.37677195e+00, -8.11846531e+05,  2.31824876e+04,\n",
       "        -7.13017652e-01,  3.41076036e+01],\n",
       "       [ 1.39374608e+01, -3.75197888e+05,  1.19556330e+07,\n",
       "        -2.52621520e+00, -3.41268442e+03, -8.45199969e+05,\n",
       "        -1.10504793e-02,  2.21467846e+00],\n",
       "       [ 2.10022757e-02, -1.37677195e+00, -2.52621520e+00,\n",
       "         4.78892124e-02, -2.91318074e-01,  2.79611947e+00,\n",
       "         3.98971659e-03, -1.29509443e-01],\n",
       "       [ 7.11747273e+00, -8.11846531e+05, -3.41268442e+03,\n",
       "        -2.91318074e-01,  2.37783623e+05, -5.72918122e+03,\n",
       "         2.24363579e-02, -1.91726614e+00],\n",
       "       [-4.96216923e+00,  2.31824876e+04, -8.45199969e+05,\n",
       "         2.79611947e+00, -5.72918122e+03,  2.47763393e+05,\n",
       "         2.20676429e-01, -6.99247521e+00],\n",
       "       [ 3.98645043e-03, -7.13017652e-01, -1.10504793e-02,\n",
       "         3.98971659e-03,  2.24363579e-02,  2.20676429e-01,\n",
       "         3.72686863e-04, -1.24491133e-02],\n",
       "       [-1.51873059e-01,  3.41076036e+01,  2.21467846e+00,\n",
       "        -1.29509443e-01, -1.91726614e+00, -6.99247521e+00,\n",
       "        -1.24491133e-02,  4.22312722e-01]]),\n",
       "       array([[ 2.38253721e-01,  1.85164518e+01, -3.17501119e+01,\n",
       "         2.00140075e-02,  3.07591246e+00,  4.21635373e+00,\n",
       "         4.02041605e-03, -1.34646907e-01],\n",
       "       [ 1.85164518e+01,  1.16107396e+07, -2.45498433e+05,\n",
       "         1.24384495e+01, -7.83625255e+05,  3.42580330e+04,\n",
       "         9.21871063e-01, -2.48220364e+01],\n",
       "       [-3.17501119e+01, -2.45498433e+05,  1.17753222e+07,\n",
       "        -7.73971036e+00, -4.67560717e+03, -7.84781723e+05,\n",
       "        -6.77128364e-01,  2.10771563e+01],\n",
       "       [ 2.00140075e-02,  1.24384495e+01, -7.73971036e+00,\n",
       "         4.42690918e-02,  1.05279681e-01,  5.30561258e+00,\n",
       "         3.72638694e-03, -1.05253604e-01],\n",
       "       [ 3.07591246e+00, -7.83625255e+05, -4.67560717e+03,\n",
       "         1.05279681e-01,  2.44854281e+05,  1.81361574e+03,\n",
       "         6.51149343e-02, -2.86794519e+00],\n",
       "       [ 4.21635373e+00,  3.42580330e+04, -7.84781723e+05,\n",
       "         5.30561258e+00,  1.81361574e+03,  2.38434799e+05,\n",
       "         4.73680573e-01, -1.39169708e+01],\n",
       "       [ 4.02041605e-03,  9.21871063e-01, -6.77128364e-01,\n",
       "         3.72638694e-03,  6.51149343e-02,  4.73680573e-01,\n",
       "         3.55230082e-04, -1.03552776e-02],\n",
       "       [-1.34646907e-01, -2.48220364e+01,  2.10771563e+01,\n",
       "        -1.05253604e-01, -2.86794519e+00, -1.39169708e+01,\n",
       "        -1.03552776e-02,  3.06815284e-01]]),\n",
       "       array([[ 2.21238104e-01, -2.76406588e+01,  6.57800127e-01,\n",
       "         2.16029638e-02,  6.76939307e+00, -4.64835877e+00,\n",
       "         3.97886819e-03, -1.55257760e-01],\n",
       "       [-2.76406588e+01,  1.19629205e+07,  1.24208417e+05,\n",
       "        -6.42733465e-01, -8.21058257e+05,  2.20053797e+04,\n",
       "        -3.84161005e-01,  2.09305150e+01],\n",
       "       [ 6.57800127e-01,  1.24208417e+05,  1.21534204e+07,\n",
       "         1.43421116e+01, -2.26428553e+04, -8.90711155e+05,\n",
       "         1.55295948e+00, -5.70592881e+01],\n",
       "       [ 2.16029638e-02, -6.42733465e-01,  1.43421116e+01,\n",
       "         5.03916225e-02,  9.77780303e-01, -1.17987663e+00,\n",
       "         4.18437952e-03, -1.40123701e-01],\n",
       "       [ 6.76939307e+00, -8.21058257e+05, -2.26428553e+04,\n",
       "         9.77780303e-01,  2.42284078e+05,  6.47832726e+02,\n",
       "         1.49147454e-01, -5.80643496e+00],\n",
       "       [-4.64835877e+00,  2.20053797e+04, -8.90711155e+05,\n",
       "        -1.17987663e+00,  6.47832726e+02,  2.54735322e+05,\n",
       "        -1.80384591e-01,  6.80012638e+00],\n",
       "       [ 3.97886819e-03, -3.84161005e-01,  1.55295948e+00,\n",
       "         4.18437952e-03,  1.49147454e-01, -1.80384591e-01,\n",
       "         3.87537567e-04, -1.33340406e-02],\n",
       "       [-1.55257760e-01,  2.09305150e+01, -5.70592881e+01,\n",
       "        -1.40123701e-01, -5.80643496e+00,  6.80012638e+00,\n",
       "        -1.33340406e-02,  4.65925163e-01]]),\n",
       "       array([[ 2.42762483e-01, -4.29172056e+01, -4.82325838e+01,\n",
       "         2.51407772e-02, -1.68651341e+00, -3.45577711e-01,\n",
       "         4.50507925e-03, -1.64202151e-01],\n",
       "       [-4.29172056e+01,  1.16868975e+07,  4.50237457e+03,\n",
       "        -8.01096860e+00, -8.33996651e+05, -1.44091513e+04,\n",
       "        -1.04665776e+00,  3.62645019e+01],\n",
       "       [-4.82325838e+01,  4.50237457e+03,  1.15597167e+07,\n",
       "        -1.11555015e+01, -4.44065015e+04, -8.03703662e+05,\n",
       "        -1.29374622e+00,  5.13186506e+01],\n",
       "       [ 2.51407772e-02, -8.01096860e+00, -1.11555015e+01,\n",
       "         4.90205998e-02, -6.69784126e-02,  3.70673528e-01,\n",
       "         4.15370583e-03, -1.30272507e-01],\n",
       "       [-1.68651341e+00, -8.33996651e+05, -4.44065015e+04,\n",
       "        -6.69784126e-02,  2.47802106e+05,  1.57530223e+03,\n",
       "        -6.30564062e-03,  2.46313126e-01],\n",
       "       [-3.45577711e-01, -1.44091513e+04, -8.03703662e+05,\n",
       "         3.70673528e-01,  1.57530223e+03,  2.42601245e+05,\n",
       "        -6.62937232e-04, -4.76387445e-01],\n",
       "       [ 4.50507925e-03, -1.04665776e+00, -1.29374622e+00,\n",
       "         4.15370583e-03, -6.30564062e-03, -6.62937232e-04,\n",
       "         3.93711887e-04, -1.26946403e-02],\n",
       "       [-1.64202151e-01,  3.62645019e+01,  5.13186506e+01,\n",
       "        -1.30272507e-01,  2.46313126e-01, -4.76387445e-01,\n",
       "        -1.26946403e-02,  4.15395005e-01]]),\n",
       "       array([[ 2.26737025e-01, -9.49881104e+00,  1.97299561e+01,\n",
       "         2.09192085e-02,  1.35549723e+00, -3.06133892e+00,\n",
       "         3.95566101e-03, -1.42033179e-01],\n",
       "       [-9.49881104e+00,  1.17858808e+07,  1.48686819e+04,\n",
       "        -3.27725033e+00, -8.40920198e+05, -3.03124215e+04,\n",
       "        -3.34799819e-01,  1.09585964e+01],\n",
       "       [ 1.97299561e+01,  1.48686819e+04,  1.22611632e+07,\n",
       "         1.15651170e+01, -3.23204319e+04, -8.65248082e+05,\n",
       "         1.08056878e+00, -3.13039833e+01],\n",
       "       [ 2.09192085e-02, -3.27725033e+00,  1.15651170e+01,\n",
       "         4.46311088e-02,  1.91572743e+00, -1.92998705e+00,\n",
       "         3.73536287e-03, -1.13938763e-01],\n",
       "       [ 1.35549723e+00, -8.40920198e+05, -3.23204319e+04,\n",
       "         1.91572743e+00,  2.48140711e+05,  8.55892258e+03,\n",
       "         2.11289047e-01, -7.06491166e+00],\n",
       "       [-3.06133892e+00, -3.03124215e+04, -8.65248082e+05,\n",
       "        -1.92998705e+00,  8.55892258e+03,  2.50711358e+05,\n",
       "        -1.67406661e-01,  4.56896550e+00],\n",
       "       [ 3.95566101e-03, -3.34799819e-01,  1.08056878e+00,\n",
       "         3.73536287e-03,  2.11289047e-01, -1.67406661e-01,\n",
       "         3.51522208e-04, -1.10502949e-02],\n",
       "       [-1.42033179e-01,  1.09585964e+01, -3.13039833e+01,\n",
       "        -1.13938763e-01, -7.06491166e+00,  4.56896550e+00,\n",
       "        -1.10502949e-02,  3.52924777e-01]]),\n",
       "       array([[ 2.28001153e-01, -3.15729072e+01, -7.17872812e+00,\n",
       "         2.35119145e-02,  7.81787832e-01,  2.81067236e+00,\n",
       "         4.17491190e-03, -1.62880789e-01],\n",
       "       [-3.15729072e+01,  1.16723894e+07, -2.00483828e+05,\n",
       "        -2.46712799e+01, -7.89340062e+05,  6.46828308e+03,\n",
       "        -2.32390608e+00,  8.28601746e+01],\n",
       "       [-7.17872812e+00, -2.00483828e+05,  1.23625991e+07,\n",
       "        -4.13303797e+01, -5.26822973e+03, -8.51903324e+05,\n",
       "        -3.42077684e+00,  1.08112791e+02],\n",
       "       [ 2.35119145e-02, -2.46712799e+01, -4.13303797e+01,\n",
       "         4.91594414e-02,  4.45579548e+00,  3.64412938e+00,\n",
       "         4.12919951e-03, -1.38672449e-01],\n",
       "       [ 7.81787832e-01, -7.89340062e+05, -5.26822973e+03,\n",
       "         4.45579548e+00,  2.41529562e+05,  1.50829752e+03,\n",
       "         3.22646339e-01, -1.03022204e+01],\n",
       "       [ 2.81067236e+00,  6.46828308e+03, -8.51903324e+05,\n",
       "         3.64412938e+00,  1.50829752e+03,  2.36980874e+05,\n",
       "         2.90068276e-01, -8.64331322e+00],\n",
       "       [ 4.17491190e-03, -2.32390608e+00, -3.42077684e+00,\n",
       "         4.12919951e-03,  3.22646339e-01,  2.90068276e-01,\n",
       "         3.86152412e-04, -1.33153129e-02],\n",
       "       [-1.62880789e-01,  8.28601746e+01,  1.08112791e+02,\n",
       "        -1.38672449e-01, -1.03022204e+01, -8.64331322e+00,\n",
       "        -1.33153129e-02,  4.65868445e-01]])], dtype=object)"
      ]
     },
     "execution_count": 10,
     "metadata": {},
     "output_type": "execute_result"
    }
   ],
   "source": [
    "covs"
   ]
  },
  {
   "cell_type": "code",
   "execution_count": null,
   "metadata": {},
   "outputs": [],
   "source": [
    "import time\n",
    "t0 = time.time()\n",
    "pnames_out_test, samples_test, logp_test  = fitting.joint_mcmc(data_spec_probMBB, [test, cmb], p_spec_probMBB, nwalkers=20, \n",
    "               burn=100, steps=10000, nthreads=4, sample_file=None)\n",
    "\n",
    "print time.time() - t0"
   ]
  },
  {
   "cell_type": "code",
   "execution_count": null,
   "metadata": {},
   "outputs": [],
   "source": [
    "samples_control = samples_control.reshape(8, 20, 10000)\n",
    "samples_mixed = samples_mixed.reshape(8, 20, 10000)\n",
    "samples_test = samples_test.reshape(10, 20, 10000)"
   ]
  },
  {
   "cell_type": "code",
   "execution_count": null,
   "metadata": {},
   "outputs": [],
   "source": [
    "np.shape(samples_control.reshape(5, 20*5000))"
   ]
  },
  {
   "cell_type": "code",
   "execution_count": null,
   "metadata": {},
   "outputs": [],
   "source": [
    "cmb.amp_I"
   ]
  },
  {
   "cell_type": "code",
   "execution_count": null,
   "metadata": {},
   "outputs": [],
   "source": [
    "fig, ((ax1, ax2, ax3, ax4), (ax6, ax7, ax8, ax9)) = plt.subplots(2, 4)\n",
    "fig.set_figwidth(20)\n",
    "fig.set_figheight(10)\n",
    "\n",
    "for i in range(0,20):\n",
    "    ax1.plot(samples_control[0][i])\n",
    "    ax2.plot(samples_control[3][i])\n",
    "    ax3.plot(samples_control[6][i])\n",
    "    ax4.plot(samples_control[7][i])\n",
    "    #ax5.plot(samples_control[4][i])\n",
    "    \n",
    "\n",
    "ax6.hist(samples_control[0].flatten())\n",
    "ax7.hist(samples_control[3].flatten())\n",
    "ax8.hist(samples_control[6].flatten())\n",
    "ax9.hist(samples_control[7].flatten())\n",
    "#ax10.hist(samples_control[4].flatten())\n",
    "    \n",
    "ax1.axhline(amp_I)\n",
    "ax2.axhline(cmb.amp_I)\n",
    "ax3.axhline(mean_beta)\n",
    "ax4.axhline(mean_temp)\n",
    "#ax5.axhline(mean_temp)\n",
    "\n",
    "ax6.axvline(amp_I, c='k')\n",
    "ax7.axvline(cmb.amp_I, c='k')\n",
    "ax8.axvline(mean_beta, c='k')\n",
    "ax9.axvline(mean_temp, c='k')\n",
    "#ax10.axvline(mean_temp, c='k')\n",
    "\n",
    "ax1.set_title('amp I')\n",
    "ax2.set_title('cmb I')\n",
    "ax3.set_title('dust_beta')\n",
    "ax4.set_title('dust_T')\n",
    "#ax5.set_title('mean temp')\n",
    "\n",
    "ax6.set_title('amp I')\n",
    "ax7.set_title('cmb I')\n",
    "ax8.set_title('dust_beta')\n",
    "ax9.set_title('dust_T')\n",
    "#ax10.set_title('mean temp')"
   ]
  },
  {
   "cell_type": "code",
   "execution_count": null,
   "metadata": {},
   "outputs": [],
   "source": [
    "fig, ((ax1, ax2, ax3, ax4), (ax6, ax7, ax8, ax9)) = plt.subplots(2, 4)\n",
    "fig.set_figwidth(20)\n",
    "fig.set_figheight(10)\n",
    "\n",
    "for i in range(0,20):\n",
    "    ax1.plot(samples_mixed[0][i])\n",
    "    ax2.plot(samples_mixed[3][i])\n",
    "    ax3.plot(samples_mixed[6][i])\n",
    "    ax4.plot(samples_mixed[7][i])\n",
    "    #ax5.plot(samples_control[4][i])\n",
    "    \n",
    "\n",
    "ax6.hist(samples_mixed[0].flatten())\n",
    "ax7.hist(samples_mixed[3].flatten())\n",
    "ax8.hist(samples_mixed[6].flatten())\n",
    "ax9.hist(samples_mixed[7].flatten())\n",
    "#ax10.hist(samples_control[4].flatten())\n",
    "    \n",
    "ax1.axhline(amp_I)\n",
    "ax2.axhline(cmb.amp_I)\n",
    "ax3.axhline(mean_beta)\n",
    "ax4.axhline(mean_temp)\n",
    "#ax5.axhline(mean_temp)\n",
    "\n",
    "ax6.axvline(amp_I, c='k')\n",
    "ax7.axvline(cmb.amp_I, c='k')\n",
    "ax8.axvline(mean_beta, c='k')\n",
    "ax9.axvline(mean_temp, c='k')\n",
    "#ax10.axvline(mean_temp, c='k')\n",
    "\n",
    "ax1.set_title('amp I')\n",
    "ax2.set_title('cmb I')\n",
    "ax3.set_title('dust_beta')\n",
    "ax4.set_title('dust_T')\n",
    "#ax5.set_title('mean temp')\n",
    "\n",
    "ax6.set_title('amp I')\n",
    "ax7.set_title('cmb I')\n",
    "ax8.set_title('dust_beta')\n",
    "ax9.set_title('dust_T')\n",
    "#ax10.set_title('mean temp')"
   ]
  },
  {
   "cell_type": "code",
   "execution_count": null,
   "metadata": {},
   "outputs": [],
   "source": [
    "fig, ((ax1, ax2, ax3), (ax4, ax5, ax6)) = plt.subplots(2, 3)\n",
    "fig.set_figwidth(15)\n",
    "fig.set_figheight(10)\n",
    "\n",
    "for i in range(0,20):\n",
    "    ax1.plot(samples_test[0][i])\n",
    "    ax2.plot(samples_test[3][i])\n",
    "    ax3.plot(samples_test[6][i])\n",
    "    ax4.plot(samples_test[7][i])\n",
    "    ax5.plot(samples_test[8][i])\n",
    "    ax6.plot(samples_test[9][i])\n",
    "    \n",
    "ax1.axhline(amp_I)\n",
    "ax2.axhline(cmb.amp_I)\n",
    "ax3.axhline(mean_beta)\n",
    "ax4.axhline(mean_temp)\n",
    "ax5.axhline(sigma_beta)\n",
    "ax6.axhline(sigma_temp)\n",
    "\n",
    "ax1.set_title('amp I')\n",
    "ax2.set_title('cmb I')\n",
    "ax3.set_title('mean beta')\n",
    "ax4.set_title('mean temp')\n",
    "ax5.set_title('sigma beta')\n",
    "ax6.set_title('sigma temp')"
   ]
  },
  {
   "cell_type": "code",
   "execution_count": null,
   "metadata": {},
   "outputs": [],
   "source": [
    "fig, ((ax1, ax2, ax3, ax4), (ax5, ax6, ax7, ax8)) = plt.subplots(2, 4)\n",
    "fig.set_figwidth(15)\n",
    "fig.set_figheight(10)\n",
    "\n",
    "ax1.hist(samples_test[0].flatten())\n",
    "ax2.hist(samples_test[1].flatten())\n",
    "ax3.hist(samples_test[2].flatten())\n",
    "ax4.hist(samples_test[3].flatten())\n",
    "ax5.hist(samples_test[4].flatten())\n",
    "ax6.hist(samples_test[5].flatten())\n",
    "ax7.hist(samples_test[6].flatten())\n",
    "    \n",
    "ax1.axvline(amp_I, c='k')\n",
    "ax2.axvline(amp_Q, c='k')\n",
    "ax3.axvline(amp_U, c='k')\n",
    "ax4.axvline(mean_beta, c='k')\n",
    "ax5.axvline(mean_temp, c='k')\n",
    "ax6.axvline(sigma_beta, c='k')\n",
    "ax7.axvline(sigma_temp, c='k')\n",
    "\n",
    "ax1.set_title('amp I')\n",
    "ax2.set_title('amp Q (noisey)')\n",
    "ax3.set_title('amp U (noisey)')\n",
    "ax4.set_title('mean beta')\n",
    "ax5.set_title('mean temp')\n",
    "ax6.set_title('sigma beta')\n",
    "ax7.set_title('sigma temp')"
   ]
  },
  {
   "cell_type": "code",
   "execution_count": null,
   "metadata": {},
   "outputs": [],
   "source": [
    "plt.hist(samples_test[0].flatten())"
   ]
  },
  {
   "cell_type": "code",
   "execution_count": null,
   "metadata": {},
   "outputs": [],
   "source": [
    "logp_control.sum() / len(logp_control), logp_test.sum() / len(logp_test)"
   ]
  },
  {
   "cell_type": "code",
   "execution_count": null,
   "metadata": {},
   "outputs": [],
   "source": [
    "plt.plot(samples[0,:], samples[3, :], 'r.', alpha=0.2)\n",
    "plt.plot(amp_I, mean_beta, 'kx')\n",
    "print np.std(samples[0])"
   ]
  },
  {
   "cell_type": "code",
   "execution_count": null,
   "metadata": {},
   "outputs": [],
   "source": [
    "fig, (ax1, ax2) = plt.subplots(2, 1)\n",
    "fig.set_figwidth(15)\n",
    "fig.set_figheight(6)\n",
    "\n",
    "ax1.plot(logp_control)\n",
    "ax1.set_title('logp: control')\n",
    "\n",
    "for i in range(20):\n",
    "    ax1.axvline(i * 5000, c='k')\n",
    "\n",
    "ax2.plot(logp_test)\n",
    "\n",
    "for i in range(20):\n",
    "    ax2.axvline(i * 5000, c='k')\n",
    "    \n",
    "ax2.set_title('logp: test')"
   ]
  },
  {
   "cell_type": "code",
   "execution_count": null,
   "metadata": {},
   "outputs": [],
   "source": [
    "np.shape(logp_control)"
   ]
  },
  {
   "cell_type": "code",
   "execution_count": null,
   "metadata": {},
   "outputs": [],
   "source": [
    "fsigma_T=1.\n",
    "fsigma_P=10e3\n",
    "\n",
    "beam_mat = np.identity(3*len(nu)) # Beam model\n",
    "params_MBB = [control.amp_I, control.amp_Q, control.amp_U, cmb.amp_I, cmb.amp_Q, cmb.amp_U, control.dust_beta,\n",
    "              control.dust_T]\n",
    "\n",
    "params_probMBB = [test.amp_I, test.amp_Q, test.amp_U, test.dust_beta,\n",
    "              test.dust_T, test.sigma_beta, test.sigma_temp]\n",
    "\n",
    "initial_vals_MBB = (amp_I, amp_Q, amp_U, control.amp_U, cmb.amp_I, cmb.amp_Q, mean_beta, mean_temp)\n",
    "initial_vals_probMBB = (amp_I, amp_Q, amp_U,\n",
    "                        mean_beta, mean_temp, sigma_beta, sigma_temp)\n",
    "parent_model = 'mbb'\n",
    "\n",
    "D_vec_MBB_Planck, Ninv_Planck = fitting.generate_data(nu, fsigma_T, fsigma_P, [control], noise_file='data/noise_planck.dat')\n",
    "D_vec_probMBB_Planck, Ninv_Planck = fitting.generate_data(nu, fsigma_T, fsigma_P, [test], noise_file='data/noise_planck.dat')\n",
    "\n",
    "data_spec_MBB_Planck = (nu, D_vec_MBB, Ninv_Planck, beam_mat)\n",
    "data_spec_probMBB_Planck = (nu, D_vec_probMBB, Ninv_Planck, beam_mat)\n",
    "\n",
    "p_spec_MBB = (pnames_MBB, initial_vals_MBB, parent_model)\n",
    "p_spec_probMBB = (pnames_probMBB, initial_vals_probMBB, parent_model)\n",
    "    \n",
    "fitting.lnprob_joint(params_MBB, data_spec_MBB_Planck, [control], p_spec_MBB), fitting.lnprob_joint(params_probMBB, data_spec_probMBB_Planck, [test], p_spec_probMBB)\n"
   ]
  },
  {
   "cell_type": "code",
   "execution_count": null,
   "metadata": {},
   "outputs": [],
   "source": [
    "fitting.lnprob_joint(params_probMBB, data_spec_MBB_Planck, [test], p_spec_MBB)"
   ]
  },
  {
   "cell_type": "code",
   "execution_count": null,
   "metadata": {},
   "outputs": [],
   "source": [
    "import time\n",
    "t0 = time.time()\n",
    "fitting.lnprob_joint(params_probMBB, data_spec_probMBB_Planck, [test], p_spec_probMBB)\n",
    "print time.time() - t0\n"
   ]
  },
  {
   "cell_type": "code",
   "execution_count": null,
   "metadata": {},
   "outputs": [],
   "source": [
    "fitting.lnprob_joint(params_MBB, data_spec_MBB_Planck, [control], p_spec_MBB), fitting.lnprob_joint(params_MBB, data_spec_MBB, [control], p_spec_MBB)"
   ]
  },
  {
   "cell_type": "code",
   "execution_count": null,
   "metadata": {},
   "outputs": [],
   "source": [
    "fitting.lnprob_joint(params_MBB, data_spec_probMBB_Planck, [control], p_spec_MBB), fitting.lnprob_joint(params_MBB, data_spec_probMBB, [control], p_spec_MBB)"
   ]
  },
  {
   "cell_type": "code",
   "execution_count": null,
   "metadata": {},
   "outputs": [],
   "source": [
    "plt.figure(figsize=(10,7))\n",
    "plt.errorbar(nu/1e9, test.scaling(nu)[0],\n",
    "             yerr=1./np.sqrt(np.diag(Ninv))[:7], lw=3)\n",
    "plt.errorbar(nu/1e9, test.scaling(nu)[0],\n",
    "             yerr=1./np.sqrt(np.diag(Ninv_Planck))[:7], lw=3, alpha=.5)"
   ]
  },
  {
   "cell_type": "code",
   "execution_count": null,
   "metadata": {},
   "outputs": [],
   "source": [
    "I_test = test.scaling(nu)[0] * test.amps()[0]\n",
    "I_control = control.scaling(nu)[0] * control.amps()[0]\n",
    "I_data = np.array(D_vec[:7]).flatten()\n",
    "err_I = 1./np.sqrt(np.diag(Ninv))[:7]"
   ]
  },
  {
   "cell_type": "code",
   "execution_count": null,
   "metadata": {},
   "outputs": [],
   "source": [
    "x, y = np.random.multivariate_normal((0., 1.), np.eye(2), size=5000).T"
   ]
  },
  {
   "cell_type": "code",
   "execution_count": null,
   "metadata": {},
   "outputs": [],
   "source": [
    "plt.plot(x,y, 'r.')"
   ]
  },
  {
   "cell_type": "code",
   "execution_count": null,
   "metadata": {},
   "outputs": [],
   "source": [
    "ax = corner.corner(np.column_stack((x,y)))"
   ]
  },
  {
   "cell_type": "code",
   "execution_count": null,
   "metadata": {},
   "outputs": [],
   "source": [
    "s = np.column_stack((samples_control[3].flatten(), samples_control[4].flatten()))"
   ]
  },
  {
   "cell_type": "code",
   "execution_count": null,
   "metadata": {},
   "outputs": [],
   "source": [
    "20 * 10000 * 10"
   ]
  },
  {
   "cell_type": "code",
   "execution_count": null,
   "metadata": {},
   "outputs": [],
   "source": [
    "samples_test.shape"
   ]
  },
  {
   "cell_type": "code",
   "execution_count": null,
   "metadata": {},
   "outputs": [],
   "source": [
    "s_T = samples_mixed.reshape((8, 200000)).T\n",
    "s_T.shape"
   ]
  },
  {
   "cell_type": "code",
   "execution_count": null,
   "metadata": {},
   "outputs": [],
   "source": [
    "ax = corner.corner(s_T, plot_datapoints=False, labels=labels, truths=truths)"
   ]
  },
  {
   "cell_type": "code",
   "execution_count": null,
   "metadata": {},
   "outputs": [],
   "source": [
    "mean_beta, mean_temp"
   ]
  },
  {
   "cell_type": "code",
   "execution_count": null,
   "metadata": {},
   "outputs": [],
   "source": [
    "sigma_beta, sigma_temp"
   ]
  },
  {
   "cell_type": "code",
   "execution_count": 14,
   "metadata": {},
   "outputs": [],
   "source": [
    "labels = ['amp_I', 'amp_Q', 'amp_U', 'cmb_I', 'cmb_Q', 'cmb_U', 'mean_beta', 'mean_temp', 'sigma_beta', 'sigma_temp']\n",
    "the_range = [0.999, (1., 100.), (1., 100.), 0.999, 0.999, 0.999, (1.4, 1.8), (16., 24.), (1e-2, 1.), (.1, 10.)]\n",
    "truths = [amp_I, amp_Q, amp_U, cmb.amp_I, cmb.amp_Q, cmb.amp_U, mean_beta, mean_temp]"
   ]
  },
  {
   "cell_type": "code",
   "execution_count": null,
   "metadata": {},
   "outputs": [],
   "source": [
    "np.isinf(samples_test).sum()"
   ]
  },
  {
   "cell_type": "code",
   "execution_count": null,
   "metadata": {},
   "outputs": [],
   "source": [
    "fig, (ax1, ax2, ax3) = plt.subplots(1,3)\n",
    "fig.set_figwidth(15)\n",
    "\n",
    "ax1.hist(samples_)"
   ]
  },
  {
   "cell_type": "code",
   "execution_count": null,
   "metadata": {},
   "outputs": [],
   "source": [
    "test = [i for i in range(10)]\n",
    "test"
   ]
  },
  {
   "cell_type": "code",
   "execution_count": null,
   "metadata": {},
   "outputs": [],
   "source": [
    "test2 = np.empty((6, 10), dtype=object)\n",
    "\n",
    "for i in range(6):\n",
    "    test2[i][:] = np.asarray(test)"
   ]
  },
  {
   "cell_type": "code",
   "execution_count": null,
   "metadata": {},
   "outputs": [],
   "source": [
    "test2.T[1]"
   ]
  },
  {
   "cell_type": "code",
   "execution_count": null,
   "metadata": {},
   "outputs": [],
   "source": []
  },
  {
   "cell_type": "code",
   "execution_count": null,
   "metadata": {},
   "outputs": [],
   "source": []
  }
 ],
 "metadata": {
  "kernelspec": {
   "display_name": "Python 2",
   "language": "python",
   "name": "python2"
  },
  "language_info": {
   "codemirror_mode": {
    "name": "ipython",
    "version": 2
   },
   "file_extension": ".py",
   "mimetype": "text/x-python",
   "name": "python",
   "nbconvert_exporter": "python",
   "pygments_lexer": "ipython2",
   "version": "2.7.14"
  }
 },
 "nbformat": 4,
 "nbformat_minor": 2
}
