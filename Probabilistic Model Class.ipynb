{
 "cells": [
  {
   "cell_type": "code",
   "execution_count": 1,
   "metadata": {},
   "outputs": [],
   "source": [
    "% matplotlib inline"
   ]
  },
  {
   "cell_type": "code",
   "execution_count": 2,
   "metadata": {},
   "outputs": [],
   "source": [
    "import numpy as np\n",
    "import matplotlib.pyplot as plt\n",
    "import model_list, models, fitting\n",
    "import matplotlib.lines as mlines\n",
    "import corner\n",
    "import copy as cp\n",
    "\n",
    "from utils import rj2cmb"
   ]
  },
  {
   "cell_type": "code",
   "execution_count": 3,
   "metadata": {},
   "outputs": [],
   "source": [
    "mean_beta = 1.6\n",
    "mean_temp = 20.\n",
    "sigma_beta = .2\n",
    "sigma_temp = 4."
   ]
  },
  {
   "cell_type": "code",
   "execution_count": 4,
   "metadata": {},
   "outputs": [],
   "source": [
    "test = model_list.prob1mbb_model\n",
    "control = model_list.dust_model"
   ]
  },
  {
   "cell_type": "code",
   "execution_count": 5,
   "metadata": {},
   "outputs": [],
   "source": [
    "DUST_I = 50.\n",
    "DUST_P = 5. / 1.41\n",
    "amp_I=rj2cmb(353e9, DUST_I)\n",
    "amp_Q=rj2cmb(353e9, DUST_P)\n",
    "amp_U=rj2cmb(353e9, DUST_P)\n",
    "\n",
    "test_smallvar = models.ProbSingleMBB(amp_I=rj2cmb(353e9, DUST_I),\n",
    "                             amp_Q=rj2cmb(353e9, DUST_P),\n",
    "                             amp_U=rj2cmb(353e9, DUST_P),\n",
    "                             dust_beta=1.6, dust_T=20.,\n",
    "                             sigma_beta=.1 * sigma_beta, sigma_temp=.1 * sigma_temp)"
   ]
  },
  {
   "cell_type": "code",
   "execution_count": 6,
   "metadata": {},
   "outputs": [],
   "source": [
    "nu = np.logspace(np.log10(30), np.log10(500), 7) * 1e9"
   ]
  },
  {
   "cell_type": "code",
   "execution_count": null,
   "metadata": {},
   "outputs": [],
   "source": [
    "amps_I = np.linspace(amp_I + 25, amp_I - 25, 500)\n",
    "#amps_Q = np.linspace(1, 100, 500)\n",
    "#amps_U = np.linspace(1, 100, 500)"
   ]
  },
  {
   "cell_type": "code",
   "execution_count": null,
   "metadata": {},
   "outputs": [],
   "source": [
    "def joint_chi2(nu, data_class, model_class, amp_I, amp_Q, amp_U, dust_beta, dust_T, sigma_beta, sigma_temp,\n",
    "               fsigma_T=1., fsigma_P=10e3):\n",
    "    \n",
    "    data_class.amp_I = amp_I\n",
    "    data_class.amp_Q = amp_Q\n",
    "    data_class.amp_U = amp_U\n",
    "    data_class.set_params((dust_beta, dust_T, sigma_beta, sigma_temp))\n",
    "\n",
    "    beam_mat = np.identity(3*len(nu)) # Beam model\n",
    "    params = [rj2cmb(353e9, DUST_I), rj2cmb(353e9, DUST_P), rj2cmb(353e9, DUST_P), dust_beta,\n",
    "              dust_T, sigma_beta, sigma_temp]\n",
    "    pnames = ('amp_I','dust_beta', 'dust_T', 'sigma_beta', 'sigma_temp')\n",
    "    initial_vals = (amp_I, dust_beta, dust_T, sigma_beta, sigma_temp)\n",
    "    parent_model = 'mbb'\n",
    "\n",
    "    D_vec, Ninv = fitting.generate_data(nu, fsigma_T, fsigma_P, [data_class])\n",
    "\n",
    "    data_spec = (nu, D_vec, Ninv, beam_mat)\n",
    "    param_spec = (pnames, initial_vals, parent_model)\n",
    "    \n",
    "    likelihood = np.asarray(fitting.lnprob_joint(params, data_spec, [model_class], param_spec))\n",
    "    \n",
    "    return likelihood[0]\n",
    "    \n",
    "    "
   ]
  },
  {
   "cell_type": "code",
   "execution_count": null,
   "metadata": {},
   "outputs": [],
   "source": [
    "I_test = test.scaling(nu)[0] * test.amps()[0]\n",
    "I_control = control.scaling(nu)[0] * control.amps()[0]\n",
    "I_data = np.array(D_vec[:7]).flatten()\n",
    "err_I = 1./np.sqrt(np.diag(Ninv))[:7]"
   ]
  },
  {
   "cell_type": "code",
   "execution_count": null,
   "metadata": {},
   "outputs": [],
   "source": [
    "#plt.errorbar(nu/1e9, I_test - I_data, yerr=err_I)\n",
    "plt.errorbar(nu/1e9, np.abs(I_control - I_data), yerr=err_I)\n"
   ]
  },
  {
   "cell_type": "code",
   "execution_count": null,
   "metadata": {},
   "outputs": [],
   "source": [
    "print plt.rcParams['axes.prop_cycle'].by_key()['color']"
   ]
  },
  {
   "cell_type": "code",
   "execution_count": null,
   "metadata": {},
   "outputs": [],
   "source": [
    "realizations = 1000\n",
    "chi2s = np.zeros(realizations)\n",
    "\n",
    "for i in range(realizations):   \n",
    "    beam_mat = np.identity(3*len(nu)) # Beam model\n",
    "    params = [amp_I, test.amp_Q, test.amp_U, test.dust_beta,\n",
    "              test.dust_T, test.sigma_beta, test.sigma_temp]\n",
    "    pnames = ('dust_beta', 'dust_T', 'sigma_beta', 'sigma_temp')\n",
    "    initial_vals = (mean_beta, mean_temp, sigma_beta, sigma_temp)\n",
    "    parent_model = 'mbb'\n",
    "    D_vec, Ninv = fitting.generate_data(nu, fsigma_T, fsigma_P, [test])\n",
    "    data_spec = (nu, D_vec, Ninv, beam_mat)\n",
    "    param_spec = (pnames, initial_vals, parent_model)\n",
    "    chi2s[i] = fitting.lnprob_joint(params, data_spec, [control], param_spec)\n",
    "    "
   ]
  },
  {
   "cell_type": "code",
   "execution_count": null,
   "metadata": {},
   "outputs": [],
   "source": [
    "2. * chi2s.sum() / realizations + len(D_vec)"
   ]
  },
  {
   "cell_type": "code",
   "execution_count": null,
   "metadata": {},
   "outputs": [],
   "source": [
    "fig, (ax1, ax2, ax3) = plt.subplots(1,3)\n",
    "fig.set_figwidth(12)\n",
    "fig.set_figheight(3)\n",
    "\n",
    "ax1.hist(2 * chi2s + len(D_vec))\n",
    "ax1.set_title('fitting MBB to MBB')\n",
    "\n",
    "ax2.hist(2 * chi2s1 + len(D_vec))\n",
    "ax2.set_title('fitting high var to MBB')\n",
    "\n",
    "ax3.hist(2 * chi2s2 + len(D_vec))\n",
    "ax3.set_title('fitting low var to MBB')"
   ]
  },
  {
   "cell_type": "code",
   "execution_count": 12,
   "metadata": {},
   "outputs": [],
   "source": [
    "models_fit = [control] \n",
    "amp_names = []\n",
    "param_names = []\n",
    "\n",
    "for mod in models_fit:\n",
    "        # Parameter names\n",
    "        amp_names += [\"%s_%s\" % (mod.model, pol) for pol in \"IQU\"]\n",
    "        param_names += mod.param_names"
   ]
  },
  {
   "cell_type": "code",
   "execution_count": 13,
   "metadata": {},
   "outputs": [
    {
     "data": {
      "text/plain": [
       "['mbb_I', 'mbb_Q', 'mbb_U', 'dust_beta', 'dust_T']"
      ]
     },
     "execution_count": 13,
     "metadata": {},
     "output_type": "execute_result"
    }
   ],
   "source": [
    "pnames_MBB = cp.copy(amp_names + param_names)\n",
    "pnames_MBB"
   ]
  },
  {
   "cell_type": "code",
   "execution_count": 14,
   "metadata": {},
   "outputs": [
    {
     "data": {
      "text/plain": [
       "(['mbb_I', 'mbb_Q', 'mbb_U', 'dust_beta', 'dust_T'],\n",
       " ['prob1mbb_I',\n",
       "  'prob1mbb_Q',\n",
       "  'prob1mbb_U',\n",
       "  'dust_beta',\n",
       "  'dust_T',\n",
       "  'sigma_beta',\n",
       "  'sigma_temp'])"
      ]
     },
     "execution_count": 14,
     "metadata": {},
     "output_type": "execute_result"
    }
   ],
   "source": [
    "pnames_MBB, pnames_probMBB"
   ]
  },
  {
   "cell_type": "code",
   "execution_count": 15,
   "metadata": {},
   "outputs": [
    {
     "data": {
      "text/plain": [
       "(matrix([[-9.00139569]]), matrix([[-9.34052532]]))"
      ]
     },
     "execution_count": 15,
     "metadata": {},
     "output_type": "execute_result"
    }
   ],
   "source": [
    "fsigma_T=1.\n",
    "fsigma_P=10e3\n",
    "\n",
    "beam_mat = np.identity(3*len(nu)) # Beam model\n",
    "params_MBB = [control.amp_I, control.amp_Q, control.amp_U, control.dust_beta,\n",
    "              control.dust_T]\n",
    "\n",
    "params_probMBB = [test.amp_I, test.amp_Q, test.amp_U, test.dust_beta,\n",
    "              test.dust_T, test.sigma_beta, test.sigma_temp]\n",
    "\n",
    "initial_vals_MBB = (amp_I, amp_Q, amp_U, mean_beta, mean_temp)\n",
    "initial_vals_probMBB = (amp_I, amp_Q, amp_U,\n",
    "                        mean_beta, mean_temp, sigma_beta, sigma_temp)\n",
    "parent_model = 'mbb'\n",
    "\n",
    "D_vec_MBB, Ninv = fitting.generate_data(nu, fsigma_T, fsigma_P, [control])\n",
    "D_vec_probMBB, Ninv = fitting.generate_data(nu, fsigma_T, fsigma_P, [test])\n",
    "\n",
    "data_spec_MBB = (nu, D_vec_MBB, Ninv, beam_mat)\n",
    "data_spec_probMBB = (nu, D_vec_probMBB, Ninv, beam_mat)\n",
    "\n",
    "p_spec_MBB = (pnames_MBB, initial_vals_MBB, parent_model)\n",
    "p_spec_probMBB = (pnames_probMBB, initial_vals_probMBB, parent_model)\n",
    "    \n",
    "fitting.lnprob_joint(params_MBB, data_spec_MBB, [control], p_spec_MBB), fitting.lnprob_joint(params_probMBB, data_spec_probMBB, [test], p_spec_probMBB)"
   ]
  },
  {
   "cell_type": "code",
   "execution_count": 16,
   "metadata": {},
   "outputs": [],
   "source": [
    "pnames_out_control, samples_control, logp_control  = fitting.joint_mcmc(data_spec_MBB, [control], p_spec_MBB, nwalkers=20, \n",
    "               burn=100, steps=10000, nthreads=2, sample_file=None)\n",
    "\n"
   ]
  },
  {
   "cell_type": "code",
   "execution_count": null,
   "metadata": {},
   "outputs": [],
   "source": [
    "pnames_out_test, samples_test, logp_test  = fitting.joint_mcmc(data_spec_probMBB, [test], p_spec_probMBB, nwalkers=20, \n",
    "               burn=100, steps=10000, nthreads=2, sample_file=None)\n",
    "\n"
   ]
  },
  {
   "cell_type": "code",
   "execution_count": null,
   "metadata": {},
   "outputs": [],
   "source": [
    "samples_control = samples_control.reshape(5, 20, 5000)\n",
    "samples_test = samples_test.reshape(7, 20, 5000)"
   ]
  },
  {
   "cell_type": "code",
   "execution_count": null,
   "metadata": {},
   "outputs": [],
   "source": [
    "np.shape(samples_control.reshape(5, 20*5000))"
   ]
  },
  {
   "cell_type": "code",
   "execution_count": null,
   "metadata": {},
   "outputs": [],
   "source": [
    "fig, ((ax1, ax2, ax3, ax4, ax5), (ax6, ax7, ax8, ax9, ax10)) = plt.subplots(2, 5)\n",
    "fig.set_figwidth(20)\n",
    "fig.set_figheight(10)\n",
    "\n",
    "for i in range(0,20):\n",
    "    ax1.plot(samples_control[0][i])\n",
    "    ax2.plot(samples_control[1][i])\n",
    "    ax3.plot(samples_control[2][i])\n",
    "    ax4.plot(samples_control[3][i])\n",
    "    ax5.plot(samples_control[4][i])\n",
    "    \n",
    "\n",
    "ax6.hist(samples_control[0].flatten())\n",
    "ax7.hist(samples_control[1].flatten())\n",
    "ax8.hist(samples_control[2].flatten())\n",
    "ax9.hist(samples_control[3].flatten())\n",
    "ax10.hist(samples_control[4].flatten())\n",
    "    \n",
    "ax1.axhline(amp_I)\n",
    "ax2.axhline(amp_Q)\n",
    "ax3.axhline(amp_U)\n",
    "ax4.axhline(mean_beta)\n",
    "ax5.axhline(mean_temp)\n",
    "\n",
    "ax6.axvline(amp_I, c='k')\n",
    "ax7.axvline(amp_Q, c='k')\n",
    "ax8.axvline(amp_U, c='k')\n",
    "ax9.axvline(mean_beta, c='k')\n",
    "ax10.axvline(mean_temp, c='k')\n",
    "\n",
    "ax1.set_title('amp I')\n",
    "ax2.set_title('amp Q (noisey)')\n",
    "ax3.set_title('amp U (noisey)')\n",
    "ax4.set_title('mean beta')\n",
    "ax5.set_title('mean temp')\n",
    "\n",
    "ax6.set_title('amp I')\n",
    "ax7.set_title('amp Q (noisey)')\n",
    "ax8.set_title('amp U (noisey)')\n",
    "ax9.set_title('mean beta')\n",
    "ax10.set_title('mean temp')"
   ]
  },
  {
   "cell_type": "code",
   "execution_count": null,
   "metadata": {},
   "outputs": [],
   "source": [
    "corner.corner(samples_control.reshape(20 * 5000, 5))"
   ]
  },
  {
   "cell_type": "code",
   "execution_count": null,
   "metadata": {},
   "outputs": [],
   "source": [
    "fig, ((ax1, ax2, ax3, ax4), (ax5, ax6, ax7, ax8)) = plt.subplots(2, 4)\n",
    "fig.set_figwidth(15)\n",
    "fig.set_figheight(10)\n",
    "\n",
    "for i in range(0,20):\n",
    "    ax1.plot(samples_test[0][i])\n",
    "    ax2.plot(samples_test[1][i])\n",
    "    ax3.plot(samples_test[2][i])\n",
    "    ax4.plot(samples_test[3][i])\n",
    "    ax5.plot(samples_test[4][i])\n",
    "    ax6.plot(samples_test[5][i])\n",
    "    ax7.plot(samples_test[6][i])\n",
    "    \n",
    "ax1.axhline(amp_I)\n",
    "ax2.axhline(amp_Q)\n",
    "ax3.axhline(amp_U)\n",
    "ax4.axhline(mean_beta)\n",
    "ax5.axhline(mean_temp)\n",
    "ax6.axhline(sigma_beta)\n",
    "ax7.axhline(sigma_temp)\n",
    "\n",
    "ax1.set_title('amp I')\n",
    "ax2.set_title('amp Q (noisey)')\n",
    "ax3.set_title('amp U (noisey)')\n",
    "ax4.set_title('mean beta')\n",
    "ax5.set_title('mean temp')\n",
    "ax6.set_title('sigma beta')\n",
    "ax7.set_title('sigma temp')"
   ]
  },
  {
   "cell_type": "code",
   "execution_count": null,
   "metadata": {},
   "outputs": [],
   "source": [
    "fig, ((ax1, ax2, ax3, ax4), (ax5, ax6, ax7, ax8)) = plt.subplots(2, 4)\n",
    "fig.set_figwidth(15)\n",
    "fig.set_figheight(10)\n",
    "\n",
    "ax1.hist(samples_test[0].flatten())\n",
    "ax2.hist(samples_test[1].flatten())\n",
    "ax3.hist(samples_test[2].flatten())\n",
    "ax4.hist(samples_test[3].flatten())\n",
    "ax5.hist(samples_test[4].flatten())\n",
    "ax6.hist(samples_test[5].flatten())\n",
    "ax7.hist(samples_test[6].flatten())\n",
    "    \n",
    "ax1.axvline(amp_I, c='k')\n",
    "ax2.axvline(amp_Q, c='k')\n",
    "ax3.axvline(amp_U, c='k')\n",
    "ax4.axvline(mean_beta, c='k')\n",
    "ax5.axvline(mean_temp, c='k')\n",
    "ax6.axvline(sigma_beta, c='k')\n",
    "ax7.axvline(sigma_temp, c='k')\n",
    "\n",
    "ax1.set_title('amp I')\n",
    "ax2.set_title('amp Q (noisey)')\n",
    "ax3.set_title('amp U (noisey)')\n",
    "ax4.set_title('mean beta')\n",
    "ax5.set_title('mean temp')\n",
    "ax6.set_title('sigma beta')\n",
    "ax7.set_title('sigma temp')"
   ]
  },
  {
   "cell_type": "code",
   "execution_count": null,
   "metadata": {},
   "outputs": [],
   "source": [
    "plt.hist(samples_test[0].flatten())"
   ]
  },
  {
   "cell_type": "code",
   "execution_count": null,
   "metadata": {},
   "outputs": [],
   "source": [
    "logp_control.sum() / len(logp_control), logp_test.sum() / len(logp_test)"
   ]
  },
  {
   "cell_type": "code",
   "execution_count": null,
   "metadata": {},
   "outputs": [],
   "source": [
    "plt.plot(samples[0,:], samples[3, :], 'r.', alpha=0.2)\n",
    "plt.plot(amp_I, mean_beta, 'kx')\n",
    "print np.std(samples[0])"
   ]
  },
  {
   "cell_type": "code",
   "execution_count": null,
   "metadata": {},
   "outputs": [],
   "source": [
    "fig, (ax1, ax2) = plt.subplots(2, 1)\n",
    "fig.set_figwidth(15)\n",
    "fig.set_figheight(6)\n",
    "\n",
    "ax1.plot(logp_control)\n",
    "ax1.set_title('logp: control')\n",
    "\n",
    "for i in range(20):\n",
    "    ax1.axvline(i * 5000, c='k')\n",
    "\n",
    "ax2.plot(logp_test)\n",
    "\n",
    "for i in range(20):\n",
    "    ax2.axvline(i * 5000, c='k')\n",
    "    \n",
    "ax2.set_title('logp: test')"
   ]
  },
  {
   "cell_type": "code",
   "execution_count": null,
   "metadata": {},
   "outputs": [],
   "source": [
    "np.shape(logp_control)"
   ]
  },
  {
   "cell_type": "code",
   "execution_count": null,
   "metadata": {},
   "outputs": [],
   "source": [
    "fsigma_T=1.\n",
    "fsigma_P=10e3\n",
    "\n",
    "beam_mat = np.identity(3*len(nu)) # Beam model\n",
    "params_MBB = [control.amp_I, control.amp_Q, control.amp_U, control.dust_beta,\n",
    "              control.dust_T]\n",
    "\n",
    "params_probMBB = [test.amp_I, test.amp_Q, test.amp_U, test.dust_beta,\n",
    "              test.dust_T, test.sigma_beta, test.sigma_temp]\n",
    "\n",
    "initial_vals_MBB = (amp_I, amp_Q, amp_U, mean_beta, mean_temp)\n",
    "initial_vals_probMBB = (amp_I, amp_Q, amp_U,\n",
    "                        mean_beta, mean_temp, sigma_beta, sigma_temp)\n",
    "parent_model = 'mbb'\n",
    "\n",
    "D_vec_MBB_Planck, Ninv_Planck = fitting.generate_data(nu, fsigma_T, fsigma_P, [control], noise_file='data/noise_planck.dat')\n",
    "D_vec_probMBB_Planck, Ninv_Planck = fitting.generate_data(nu, fsigma_T, fsigma_P, [test], noise_file='data/noise_planck.dat')\n",
    "\n",
    "data_spec_MBB_Planck = (nu, D_vec_MBB, Ninv_Planck, beam_mat)\n",
    "data_spec_probMBB_Planck = (nu, D_vec_probMBB, Ninv_Planck, beam_mat)\n",
    "\n",
    "p_spec_MBB = (pnames_MBB, initial_vals_MBB, parent_model)\n",
    "p_spec_probMBB = (pnames_probMBB, initial_vals_probMBB, parent_model)\n",
    "    \n",
    "fitting.lnprob_joint(params_MBB, data_spec_MBB_Planck, [control], p_spec_MBB), fitting.lnprob_joint(params_probMBB, data_spec_probMBB_Planck, [test], p_spec_probMBB)\n"
   ]
  },
  {
   "cell_type": "code",
   "execution_count": null,
   "metadata": {},
   "outputs": [],
   "source": [
    "import time\n",
    "t0 = time.time()\n",
    "fitting.lnprob_joint(params_probMBB, data_spec_probMBB_Planck, [test], p_spec_probMBB)\n",
    "print time.time() - t0\n"
   ]
  },
  {
   "cell_type": "code",
   "execution_count": null,
   "metadata": {},
   "outputs": [],
   "source": [
    "fitting.lnprob_joint(params_MBB, data_spec_MBB_Planck, [control], p_spec_MBB), fitting.lnprob_joint(params_MBB, data_spec_MBB, [control], p_spec_MBB)"
   ]
  },
  {
   "cell_type": "code",
   "execution_count": null,
   "metadata": {},
   "outputs": [],
   "source": [
    "fitting.lnprob_joint(params_MBB, data_spec_probMBB_Planck, [control], p_spec_MBB), fitting.lnprob_joint(params_MBB, data_spec_probMBB, [control], p_spec_MBB)"
   ]
  },
  {
   "cell_type": "code",
   "execution_count": null,
   "metadata": {},
   "outputs": [],
   "source": [
    "plt.figure(figsize=(10,7))\n",
    "plt.errorbar(nu/1e9, test.scaling(nu)[0],\n",
    "             yerr=1./np.sqrt(np.diag(Ninv))[:7], lw=3)\n",
    "plt.errorbar(nu/1e9, test.scaling(nu)[0],\n",
    "             yerr=1./np.sqrt(np.diag(Ninv_Planck))[:7], lw=3, alpha=.5)"
   ]
  },
  {
   "cell_type": "code",
   "execution_count": null,
   "metadata": {},
   "outputs": [],
   "source": [
    "I_test = test.scaling(nu)[0] * test.amps()[0]\n",
    "I_control = control.scaling(nu)[0] * control.amps()[0]\n",
    "I_data = np.array(D_vec[:7]).flatten()\n",
    "err_I = 1./np.sqrt(np.diag(Ninv))[:7]"
   ]
  },
  {
   "cell_type": "code",
   "execution_count": null,
   "metadata": {},
   "outputs": [],
   "source": [
    "x, y = np.random.multivariate_normal((0., 1.), np.eye(2), size=5000).T"
   ]
  },
  {
   "cell_type": "code",
   "execution_count": null,
   "metadata": {},
   "outputs": [],
   "source": [
    "plt.plot(x,y, 'r.')"
   ]
  },
  {
   "cell_type": "code",
   "execution_count": null,
   "metadata": {},
   "outputs": [],
   "source": [
    "ax = corner.corner(np.column_stack((x,y)))"
   ]
  },
  {
   "cell_type": "code",
   "execution_count": null,
   "metadata": {},
   "outputs": [],
   "source": [
    "s = np.column_stack((samples_control[3].flatten(), samples_control[4].flatten()))"
   ]
  },
  {
   "cell_type": "code",
   "execution_count": null,
   "metadata": {},
   "outputs": [],
   "source": [
    "samples_control.shape"
   ]
  },
  {
   "cell_type": "code",
   "execution_count": null,
   "metadata": {},
   "outputs": [],
   "source": [
    "s_T = samples_test.reshape((7, 100000)).T\n",
    "s_T.shape"
   ]
  },
  {
   "cell_type": "code",
   "execution_count": null,
   "metadata": {},
   "outputs": [],
   "source": [
    "ax = corner.corner(s_T, plot_datapoints=False)"
   ]
  },
  {
   "cell_type": "code",
   "execution_count": null,
   "metadata": {},
   "outputs": [],
   "source": [
    "mean_beta, mean_temp"
   ]
  },
  {
   "cell_type": "code",
   "execution_count": null,
   "metadata": {},
   "outputs": [],
   "source": [
    "sigma_beta, sigma_temp"
   ]
  },
  {
   "cell_type": "code",
   "execution_count": null,
   "metadata": {},
   "outputs": [],
   "source": []
  }
 ],
 "metadata": {
  "kernelspec": {
   "display_name": "Python 2",
   "language": "python",
   "name": "python2"
  },
  "language_info": {
   "codemirror_mode": {
    "name": "ipython",
    "version": 2
   },
   "file_extension": ".py",
   "mimetype": "text/x-python",
   "name": "python",
   "nbconvert_exporter": "python",
   "pygments_lexer": "ipython2",
   "version": "2.7.14"
  }
 },
 "nbformat": 4,
 "nbformat_minor": 2
}
